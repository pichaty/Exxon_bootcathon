{
 "cells": [
  {
   "cell_type": "markdown",
   "id": "94e3cf3d",
   "metadata": {},
   "source": [
    "**read excel**"
   ]
  },
  {
   "cell_type": "code",
   "execution_count": 66,
   "id": "25d4ec89",
   "metadata": {},
   "outputs": [],
   "source": [
    "import os\n",
    "import pandas as pd\n",
    "import matplotlib.pyplot as plt\n",
    "import seaborn as sns\n",
    "\n",
    "file_path_inbound = os.path.abspath('../data_cleaned/Cleaned_Inbound_sorted.xlsx')\n",
    "\n",
    "file_path_inventory = os.path.abspath('../data_cleaned/Cleaned_Inventory_sorted.xlsx')\n",
    "file_path_materialmaster = os.path.abspath('../data_cleaned/Cleaned_material.xlsx')\n",
    "file_path_outbound = os.path.abspath('../data_cleaned/Cleaned_outbound_sorted.xlsx')\n",
    "\n",
    "# โหลดไฟล์ Excel (.xlsx)\n",
    "inbound = pd.read_excel(file_path_inbound)\n",
    "inventory = pd.read_excel(file_path_inventory)\n",
    "materialmaster = pd.read_excel(file_path_materialmaster)\n",
    "outbound = pd.read_excel(file_path_outbound)\n",
    "operationcost = pd.read_excel('../data_cleaned/Cleaned_OperationCost.xlsx')\n",
    "forecast =  pd.read_excel('../data_cleaned/forecast_1.xlsx')"
   ]
  },
  {
   "cell_type": "markdown",
   "id": "7bb00b80",
   "metadata": {},
   "source": [
    "**create new df**"
   ]
  },
  {
   "cell_type": "code",
   "execution_count": 67,
   "id": "189261ba",
   "metadata": {},
   "outputs": [],
   "source": [
    "import pandas as pd\n",
    "\n",
    "# เตรียม Inventory\n",
    "inventory['BALANCE_AS_OF_DATE'] = pd.to_datetime(inventory['BALANCE_AS_OF_DATE'])\n",
    "inventory['YEAR_MONTH'] = inventory['BALANCE_AS_OF_DATE'].dt.to_period('M')\n",
    "monthly_inventory = inventory.groupby(['YEAR_MONTH', 'PLANT_NAME'])['UNRESTRICTED_STOCK_MT'].sum().reset_index()\n",
    "monthly_inventory.rename(columns={'UNRESTRICTED_STOCK_MT': 'UNRESTRICTED_ACTUAL_MT'}, inplace=True)\n",
    "\n",
    "# เตรียม Inbound\n",
    "inbound['INBOUND_DATE'] = pd.to_datetime(inbound['INBOUND_DATE'])\n",
    "inbound['YEAR_MONTH'] = inbound['INBOUND_DATE'].dt.to_period('M')\n",
    "monthly_inbound = inbound.groupby(['YEAR_MONTH', 'PLANT_NAME'])['NET_QUANTITY_MT'].sum().reset_index()\n",
    "monthly_inbound.rename(columns={'NET_QUANTITY_MT': 'INBOUND_MT'}, inplace=True)\n",
    "\n",
    "# เตรียม Forecast\n",
    "plant_map = {\n",
    "    'sg': 'SINGAPORE-WAREHOUSE',\n",
    "    'cn': 'CHINA-WAREHOUSE'\n",
    "}\n",
    "\n",
    "forecast['Date'] = pd.to_datetime(forecast['Date'])\n",
    "forecast['YEAR_MONTH'] = forecast['Date'].dt.to_period('M')\n",
    "forecast['PLANT_NAME'] = forecast['Warehouse'].str.lower().map(plant_map)\n",
    "\n",
    "# ดึงทั้ง Predicted Outbound และ Predicted Inventory\n",
    "forecast_use = forecast[['YEAR_MONTH', 'PLANT_NAME', \n",
    "                         'Predicted Outbound (MT)', \n",
    "                         'Predicted Inventory (MT)']].rename(columns={\n",
    "    'Predicted Outbound (MT)': 'PREDICTED_OUTBOUND_MT',\n",
    "    'Predicted Inventory (MT)': 'PREDICTED_INVENTORY_MT'\n",
    "})\n",
    "\n",
    "# รวมข้อมูล\n",
    "df = monthly_inventory.merge(monthly_inbound, on=['YEAR_MONTH', 'PLANT_NAME'], how='left') \\\n",
    "                      .merge(forecast_use, on=['YEAR_MONTH', 'PLANT_NAME'], how='left')\n",
    "\n",
    "# บันทึกเป็น Excel\n",
    "df.to_excel('monthly_inventory_summary.xlsx', index=False)\n",
    "\n",
    "# ดูตัวอย่าง\n",
    "df.head(10)\n",
    "df = pd.read_excel('monthly_inventory_summary.xlsx')\n",
    "\n"
   ]
  },
  {
   "cell_type": "markdown",
   "id": "1e3efccc",
   "metadata": {},
   "source": [
    "- prepare for optimization"
   ]
  },
  {
   "cell_type": "code",
   "execution_count": 68,
   "id": "2805853f",
   "metadata": {},
   "outputs": [],
   "source": [
    "import os\n",
    "import pandas as pd\n",
    "import numpy as np\n",
    "import pulp\n",
    "from datetime import datetime\n",
    "import xgboost as xgb\n",
    "from sklearn.model_selection import train_test_split\n",
    "from sklearn.metrics import mean_absolute_error"
   ]
  },
  {
   "cell_type": "code",
   "execution_count": 69,
   "id": "59490c9b",
   "metadata": {},
   "outputs": [],
   "source": [
    "# ------------------ CAPACITY CONFIGURATION ------------------\n",
    "capacity_dict = {\n",
    "    ('SINGAPORE-WAREHOUSE', 1): 53500, ('SINGAPORE-WAREHOUSE', 2): 53500,\n",
    "    ('SINGAPORE-WAREHOUSE', 3): 53500, ('SINGAPORE-WAREHOUSE', 4): 53500,\n",
    "    ('SINGAPORE-WAREHOUSE', 5): 53500, ('SINGAPORE-WAREHOUSE', 6): 53500,\n",
    "    ('SINGAPORE-WAREHOUSE', 7): 53500, ('SINGAPORE-WAREHOUSE', 8): 53500,\n",
    "    ('SINGAPORE-WAREHOUSE', 9): 53500, ('SINGAPORE-WAREHOUSE', 10): 53500,\n",
    "    ('SINGAPORE-WAREHOUSE', 11): 53500, ('SINGAPORE-WAREHOUSE', 12): 48000,\n",
    "    ('CHINA-WAREHOUSE', 1): 58000, ('CHINA-WAREHOUSE', 2): 70000,\n",
    "    ('CHINA-WAREHOUSE', 3): 70000, ('CHINA-WAREHOUSE', 4): 70000,\n",
    "    ('CHINA-WAREHOUSE', 5): 70000, ('CHINA-WAREHOUSE', 6): 70000,\n",
    "    ('CHINA-WAREHOUSE', 7): 70000, ('CHINA-WAREHOUSE', 8): 70000,\n",
    "    ('CHINA-WAREHOUSE', 9): 70000, ('CHINA-WAREHOUSE', 10): 70000,\n",
    "    ('CHINA-WAREHOUSE', 11): 70000, ('CHINA-WAREHOUSE', 12): 70000,\n",
    "}"
   ]
  },
  {
   "cell_type": "code",
   "execution_count": 70,
   "id": "b3d81783",
   "metadata": {},
   "outputs": [],
   "source": [
    "def normalize(name):\n",
    "    \"\"\"Normalize plant names for consistent matching\"\"\"\n",
    "    return name.lower().replace('-', ' ').strip()\n",
    "\n",
    "def get_capacity(row):\n",
    "    month = row['YEAR_MONTH'].month if isinstance(row['YEAR_MONTH'], pd.Period) else pd.Period(row['YEAR_MONTH']).month\n",
    "    plant = normalize(row['PLANT_NAME'])  # Ensure normalized\n",
    "    normalized_dict = {(normalize(k[0]), k[1]): v for k, v in capacity_dict.items()}\n",
    "    return normalized_dict.get((plant, month), np.nan)\n",
    "\n",
    "def parse_operation_costs(operationcost_df):\n",
    "    \"\"\"Parse operation costs from dataframe and handle different transport modes.\"\"\"\n",
    "    df = operationcost_df.copy()\n",
    "    df['Operation'] = df['Operation'].str.lower()\n",
    "    \n",
    "    # ใช้ str.lower() กับคอลัมน์ PLANT_OR_TRANSPORT เพื่อความสม่ำเสมอ\n",
    "    df['PLANT_OR_TRANSPORT'] = df['PLANT_OR_TRANSPORT'].str.lower()\n",
    "\n",
    "    storage_cost_per_mt_per_day = df[\n",
    "        df['Operation'].str.contains('inventory storage')\n",
    "    ].set_index('PLANT_OR_TRANSPORT')['Cost'].to_dict()\n",
    "\n",
    "    \n",
    "    # สร้าง Dictionary สำหรับค่าขนส่งโดยวนลูป\n",
    "    transfer_cost_per_container = {}\n",
    "    transfer_rows = df[df['Operation'].str.contains('transfer cost')]\n",
    "\n",
    "    for _, row in transfer_rows.iterrows():\n",
    "        # ดึงชื่อ mode จาก \"transfer cost per container (2 truck)\" -> \"truck\"\n",
    "        # โดยหาคำในวงเล็บ หรือใช้คำสุดท้ายเป็นหลัก\n",
    "        text = row['PLANT_OR_TRANSPORT']\n",
    "        mode = 'unknown'\n",
    "        if '(' in text and ')' in text:\n",
    "            mode = text[text.find('(')+1:text.find(')')].split()[-1]\n",
    "        else:\n",
    "            # ถ้าไม่มีวงเล็บ ให้ใช้คำสุดท้าย\n",
    "            mode = text.split()[-1]\n",
    "        \n",
    "        # ทำให้เป็นตัวพิมพ์เล็กเพื่อความแน่นอน\n",
    "        transfer_cost_per_container[mode.lower()] = row['Cost']\n",
    "        \n",
    "    print(\"🚚 Transport modes found:\", list(transfer_cost_per_container.keys()))\n",
    "\n",
    "    return storage_cost_per_mt_per_day, transfer_cost_per_container"
   ]
  },
  {
   "cell_type": "code",
   "execution_count": 71,
   "id": "86701c5e",
   "metadata": {},
   "outputs": [],
   "source": [
    "def prepare_data_for_analysis(inventory_df, outbound_df, inbound_df, forecast_df):\n",
    "    \"\"\"Prepare merged data for overflow analysis\"\"\"\n",
    "    df = inventory_df.copy()\n",
    "    df['YEAR_MONTH'] = pd.to_datetime(df['BALANCE_AS_OF_DATE']).dt.to_period('M')\n",
    "    \n",
    "    # Aggregate outbound data\n",
    "    outbound_agg = outbound_df.copy()\n",
    "    outbound_agg['YEAR_MONTH'] = pd.to_datetime(outbound_agg['OUTBOUND_DATE']).dt.to_period('M')\n",
    "    outbound_summary = outbound_agg.groupby(['PLANT_NAME', 'YEAR_MONTH'])['NET_QUANTITY_MT'].sum().reset_index()\n",
    "    outbound_summary = outbound_summary.rename(columns={'NET_QUANTITY_MT': 'PREDICTED_OUTBOUND_MT'})\n",
    "    \n",
    "    # Aggregate inbound data\n",
    "    inbound_agg = inbound_df.copy()\n",
    "    inbound_agg['YEAR_MONTH'] = pd.to_datetime(inbound_agg['INBOUND_DATE']).dt.to_period('M')\n",
    "    inbound_summary = inbound_agg.groupby(['PLANT_NAME', 'YEAR_MONTH'])['NET_QUANTITY_MT'].sum().reset_index()\n",
    "    inbound_summary = inbound_summary.rename(columns={'NET_QUANTITY_MT': 'INBOUND_MT'})\n",
    "    \n",
    "    # Aggregate inventory data\n",
    "    inventory_summary = df.groupby(['PLANT_NAME', 'YEAR_MONTH'])['UNRESTRICTED_STOCK_MT'].sum().reset_index()\n",
    "    inventory_summary = inventory_summary.rename(columns={'UNRESTRICTED_STOCK_MT': 'UNRESTRICTED_ACTUAL_MT'})\n",
    "    \n",
    "    \n",
    "    # Prepare forecast data\n",
    "    forecast_use = forecast_df.copy()\n",
    "    plant_map = {\n",
    "        'sg': 'SINGAPORE-WAREHOUSE',\n",
    "        'cn': 'CHINA-WAREHOUSE'\n",
    "    }\n",
    "    forecast_use['Date'] = pd.to_datetime(forecast_use['Date'])\n",
    "    forecast_use['YEAR_MONTH'] = forecast_use['Date'].dt.to_period('M')\n",
    "    forecast_use['PLANT_NAME'] = forecast_use['Warehouse'].str.lower().map(plant_map)\n",
    "    forecast_summary = forecast_use.rename(columns={\n",
    "        'Predicted Inventory (MT)': 'PREDICTED_INVENTORY_MT'\n",
    "    })\n",
    "    \n",
    "    # Merge all data\n",
    "    merged_df = inventory_summary.merge(\n",
    "        inbound_summary, on=['PLANT_NAME', 'YEAR_MONTH'], how='left'\n",
    "    ).merge(\n",
    "        outbound_summary, on=['PLANT_NAME', 'YEAR_MONTH'], how='left'\n",
    "    ).merge(\n",
    "        # เพิ่มการ merge forecast_summary\n",
    "        forecast_summary[['PLANT_NAME', 'YEAR_MONTH', 'PREDICTED_INVENTORY_MT']], \n",
    "        on=['PLANT_NAME', 'YEAR_MONTH'], \n",
    "        how='left'\n",
    "    )\n",
    "    \n",
    "    merged_df['INBOUND_MT'] = merged_df['INBOUND_MT'].fillna(0)\n",
    "    merged_df['PREDICTED_OUTBOUND_MT'] = merged_df['PREDICTED_OUTBOUND_MT'].fillna(0)\n",
    "    # เติมค่าว่างใน PREDICTED_INVENTORY_MT ด้วย 0 หากมี\n",
    "    merged_df['PREDICTED_INVENTORY_MT'] = merged_df['PREDICTED_INVENTORY_MT'].fillna(0)\n",
    "    \n",
    "    return merged_df"
   ]
  },
  {
   "cell_type": "markdown",
   "id": "a141b98d",
   "metadata": {},
   "source": [
    "- analyze_overflow"
   ]
  },
  {
   "cell_type": "code",
   "execution_count": 72,
   "id": "378edd43",
   "metadata": {},
   "outputs": [],
   "source": [
    "import pandas as pd\n",
    "import numpy as np\n",
    "import xgboost as xgb\n",
    "from sklearn.model_selection import train_test_split\n",
    "from sklearn.metrics import mean_absolute_error, mean_squared_error, r2_score\n",
    "\n",
    "\n",
    "\n",
    "def get_capacity(row):\n",
    "    month = row['YEAR_MONTH'].month if isinstance(row['YEAR_MONTH'], pd.Period) else pd.Period(row['YEAR_MONTH']).month\n",
    "    plant = normalize(row['PLANT_NAME'])  # Ensure normalized\n",
    "    normalized_dict = {(normalize(k[0]), k[1]): v for k, v in capacity_dict.items()}\n",
    "    return normalized_dict.get((plant, month), np.nan)\n",
    "\n",
    "\n",
    "def analyze_overflow_with_xgb_improved(df, target_year, target_month):\n",
    "    df = df.copy()\n",
    "\n",
    "    # แปลง YEAR_MONTH เป็น Period\n",
    "    df['YEAR_MONTH'] = df['YEAR_MONTH'].apply(lambda x: pd.Period(x, freq='M') if not isinstance(x, pd.Period) else x)\n",
    "\n",
    "    # Sort & Encode\n",
    "    df = df.sort_values(['PLANT_NAME', 'YEAR_MONTH']).reset_index(drop=True)\n",
    "    df['PLANT_ENCODED'] = df['PLANT_NAME'].astype('category').cat.codes\n",
    "\n",
    "    # Calendar features\n",
    "    df['MONTH'] = df['YEAR_MONTH'].dt.month\n",
    "    df['QUARTER'] = df['YEAR_MONTH'].dt.quarter\n",
    "    df['IS_YEAR_END'] = (df['MONTH'] == 12).astype(int)\n",
    "    df['IS_QUARTER_END'] = df['MONTH'].isin([3, 6, 9, 12]).astype(int)\n",
    "\n",
    "    # เตรียมฟีเจอร์ lag/rolling แบบกลุ่ม per plant\n",
    "    df['INV_T_1'] = np.nan\n",
    "    df['INV_T_2'] = np.nan\n",
    "    df['INV_T_3'] = np.nan\n",
    "    df['INB_T_1'] = np.nan\n",
    "    df['OUTB_T_1'] = np.nan\n",
    "    df['INV_P_1'] = np.nan\n",
    "    df['INV_MA_3'] = np.nan\n",
    "    df['INB_MA_3'] = np.nan\n",
    "    df['OUTB_MA_3'] = np.nan\n",
    "    df['INV_STD_3'] = np.nan\n",
    "    df['OUTB_STD_3'] = np.nan\n",
    "\n",
    "    for plant in df['PLANT_NAME'].unique():\n",
    "        mask = df['PLANT_NAME'] == plant\n",
    "        plant_data = df.loc[mask].sort_values('YEAR_MONTH')  # เรียงเดือนก่อน\n",
    "\n",
    "        df.loc[mask, 'INV_T_1'] = plant_data['UNRESTRICTED_ACTUAL_MT'].shift(1)\n",
    "        df.loc[mask, 'INV_T_2'] = plant_data['UNRESTRICTED_ACTUAL_MT'].shift(2)\n",
    "        df.loc[mask, 'INV_T_3'] = plant_data['UNRESTRICTED_ACTUAL_MT'].shift(3)\n",
    "        df.loc[mask, 'INB_T_1'] = plant_data['INBOUND_MT'].shift(1)\n",
    "        df.loc[mask, 'OUTB_T_1'] = plant_data['PREDICTED_OUTBOUND_MT'].shift(1)\n",
    "        df.loc[mask, 'INV_P_1'] = plant_data['PREDICTED_INVENTORY_MT'].shift(1)\n",
    "\n",
    "        df.loc[mask, 'INV_MA_3'] = plant_data['UNRESTRICTED_ACTUAL_MT'].rolling(3).mean()\n",
    "        df.loc[mask, 'INB_MA_3'] = plant_data['INBOUND_MT'].rolling(3).mean()\n",
    "        df.loc[mask, 'OUTB_MA_3'] = plant_data['PREDICTED_OUTBOUND_MT'].rolling(3).mean()\n",
    "        df.loc[mask, 'INV_STD_3'] = plant_data['UNRESTRICTED_ACTUAL_MT'].rolling(3).std()\n",
    "        df.loc[mask, 'OUTB_STD_3'] = plant_data['PREDICTED_OUTBOUND_MT'].rolling(3).std()\n",
    "\n",
    "\n",
    "\n",
    "    # สร้างฟีเจอร์ใหม่ join เดือนก่อนหน้าจริง ๆ\n",
    "    \n",
    "    df['YEAR_MONTH_T_MINUS_1'] = df['YEAR_MONTH'] - 1\n",
    "    df['YEAR_MONTH_T_MINUS_2'] = df['YEAR_MONTH'] - 2\n",
    "\n",
    "    df_lag1 = df[['PLANT_NAME', 'YEAR_MONTH', 'INBOUND_MT']].rename(\n",
    "        columns={'YEAR_MONTH': 'YEAR_MONTH_T_MINUS_1', 'INBOUND_MT': 'INBOUND_MT_LAG1'}\n",
    "    )\n",
    "\n",
    "    df_lag2 = df[['PLANT_NAME', 'YEAR_MONTH', 'UNRESTRICTED_ACTUAL_MT']].rename(\n",
    "        columns={'YEAR_MONTH': 'YEAR_MONTH_T_MINUS_2', 'UNRESTRICTED_ACTUAL_MT': 'INV_LAG2'}\n",
    "    )\n",
    "\n",
    "    df = df.merge(df_lag1, on=['PLANT_NAME', 'YEAR_MONTH_T_MINUS_1'], how='left')\n",
    "    df = df.merge(df_lag2, on=['PLANT_NAME', 'YEAR_MONTH_T_MINUS_2'], how='left')\n",
    "\n",
    "    df['UNRESTRICTED_ACTUAL_MT_T2_PLUS_INBOUND_T1'] = df['INBOUND_MT_LAG1'] + df['INV_LAG2']\n",
    "\n",
    "    \n",
    "    # เติมค่า NaN ด้วยค่าเฉลี่ยในแต่ละ plant\n",
    "    lag_features = ['INV_T_1', 'INV_T_2', 'INV_T_3', 'INB_T_1', 'OUTB_T_1', 'INV_P_1',\n",
    "                    'INV_MA_3', 'INB_MA_3', 'OUTB_MA_3', 'UNRESTRICTED_ACTUAL_MT_T2_PLUS_INBOUND_T1','INV_STD_3', 'OUTB_STD_3']\n",
    "    for plant in df['PLANT_NAME'].unique():\n",
    "        mask = df['PLANT_NAME'] == plant\n",
    "        for f in lag_features:\n",
    "            df.loc[mask, f] = df.loc[mask, f].fillna(df.loc[mask, f].mean(skipna=True))\n",
    "\n",
    "   \n",
    "    # Train/Test Split\n",
    "    df_model = df.copy()\n",
    "    df_model = df_model.sort_values('YEAR_MONTH')\n",
    "    train_size = int(len(df_model) * 0.8)\n",
    "    train_df = df_model.iloc[:train_size]\n",
    "    test_df = df_model.iloc[train_size:]\n",
    "    features = ['INV_T_1', 'INV_T_2', 'INV_T_3', 'INB_T_1', 'OUTB_T_1', 'INBOUND_MT',\n",
    "                'QUARTER', 'MONTH', 'INV_P_1', 'INV_MA_3', 'UNRESTRICTED_ACTUAL_MT_T2_PLUS_INBOUND_T1',\n",
    "                'INB_MA_3', 'PLANT_ENCODED', 'IS_YEAR_END', 'IS_QUARTER_END','INV_STD_3', 'OUTB_STD_3']\n",
    "\n",
    "    target = 'UNRESTRICTED_ACTUAL_MT'\n",
    "\n",
    "    X_train = train_df[features]\n",
    "    y_train = train_df[target]\n",
    "    X_test = test_df[features]\n",
    "    y_test = test_df[target]\n",
    "\n",
    "    best_params = {\n",
    "        'max_depth': 8,\n",
    "        'learning_rate': 0.16438179870311287,\n",
    "        'subsample': 0.7008753114485383,\n",
    "        'colsample_bytree': 0.5553690914236263,\n",
    "        'reg_alpha': 0.2,\n",
    "        'reg_lambda': 0.1,\n",
    "        'min_child_weight': 8,\n",
    "        'gamma': 4.266195291786033,\n",
    "    }\n",
    "\n",
    "    model = xgb.XGBRegressor(\n",
    "        n_estimators=100,\n",
    "        **best_params,\n",
    "        random_state=42,\n",
    "    )\n",
    "\n",
    "    model.fit(X_train, y_train)\n",
    "\n",
    "    y_train_pred = model.predict(X_train)\n",
    "    y_test_pred = model.predict(X_test)\n",
    "\n",
    "    train_mae = mean_absolute_error(y_train, y_train_pred)\n",
    "    test_mae = mean_absolute_error(y_test, y_test_pred)\n",
    "\n",
    "    \n",
    "    print(f\"\\n📊 Model Performance:\")\n",
    "    print(f\"   Train MAE: {train_mae:.2f}\")\n",
    "    print(f\"   Test MAE: {test_mae:.2f}\")\n",
    "\n",
    "    \n",
    "   \n",
    "    \n",
    "    \n",
    "\n",
    "    # ทำนายสำหรับทั้ง dataset\n",
    "    df_model['EXPECTED_INVENTORY'] = model.predict(df_model[features])\n",
    "    \n",
    "    # ตรวจสอบการทำนาย\n",
    "    print(f\"\\n🔍 Prediction Check:\")\n",
    "    print(f\"   Unique predictions: {df_model['EXPECTED_INVENTORY'].nunique()}\")\n",
    "    print(f\"   Prediction range: {df_model['EXPECTED_INVENTORY'].min():.2f} - {df_model['EXPECTED_INVENTORY'].max():.2f}\")\n",
    "    \n",
    "    # แสดงตัวอย่างการทำนายแต่ละ plant\n",
    "    for plant in df_model['PLANT_NAME'].unique():\n",
    "        plant_data = df_model[df_model['PLANT_NAME'] == plant]\n",
    "        if len(plant_data) > 0:\n",
    "            latest_pred = plant_data['EXPECTED_INVENTORY'].iloc[-1]\n",
    "            latest_actual = plant_data['UNRESTRICTED_ACTUAL_MT'].iloc[-1]\n",
    "            print(f\"   {plant}: Latest prediction={latest_pred:.2f}, Actual={latest_actual:.2f}\")\n",
    "    \n",
    "    # รวมค่าทำนายกลับไปยัง df หลัก\n",
    "    df = df.merge(df_model[['YEAR_MONTH', 'PLANT_NAME', 'EXPECTED_INVENTORY']], \n",
    "                  on=['YEAR_MONTH', 'PLANT_NAME'], how='left')\n",
    "    \n",
    "    df['EXPECTED_INVENTORY'] = df['EXPECTED_INVENTORY'].fillna(df['PREDICTED_INVENTORY_MT'])\n",
    "    \n",
    "    # คำนวณ capacity และ risk metrics\n",
    "    df['CAPACITY_MT'] = df.apply(get_capacity, axis=1)\n",
    "    df['UTILIZATION_RATE'] = df['EXPECTED_INVENTORY'] / df['CAPACITY_MT']\n",
    "    \n",
    "    def risk_level(rate):\n",
    "        if pd.isna(rate):\n",
    "            return 'Insufficient Data'\n",
    "        elif rate >= 1.0:\n",
    "            return 'OVERFLOW'\n",
    "        elif rate >= 0.90:\n",
    "            return 'CRITICAL'\n",
    "        elif rate > 0.80:\n",
    "            return 'HIGH'\n",
    "        elif 0.70 <= rate <= 0.80:\n",
    "            return 'NORMAL'\n",
    "        else:\n",
    "            return 'LOW'\n",
    "    \n",
    "    df['RISK_LEVEL'] = df['UTILIZATION_RATE'].apply(risk_level)\n",
    "    df['TOTAL_STOCK_AFTER_INBOUND'] = df['UNRESTRICTED_ACTUAL_MT'] + df['INBOUND_MT']\n",
    "    df['IS_OVERFLOW'] = df['EXPECTED_INVENTORY'] > df['CAPACITY_MT']\n",
    "    \n",
    "    # เลือกข้อมูลเดือนเป้าหมาย\n",
    "    target_period = pd.Period(f\"{target_year}-{target_month:02d}\", freq='M')\n",
    "    result = df[df['YEAR_MONTH'] == target_period].copy()\n",
    "    \n",
    "    if result.empty:\n",
    "        print(f\"⚠️ No data found for {target_year}-{target_month:02d}\")\n",
    "        return pd.DataFrame(), df_model\n",
    "    \n",
    "    # เลือกคอลัมน์แสดงผล\n",
    "    result = result[['PLANT_NAME', 'YEAR_MONTH', 'CAPACITY_MT', 'EXPECTED_INVENTORY', \n",
    "                     'UNRESTRICTED_ACTUAL_MT', 'INBOUND_MT', 'PREDICTED_OUTBOUND_MT', \n",
    "                     'TOTAL_STOCK_AFTER_INBOUND', 'UTILIZATION_RATE', 'RISK_LEVEL', 'IS_OVERFLOW']]\n",
    "    \n",
    "    # เปลี่ยนชื่อคอลัมน์\n",
    "    result = result.rename(columns={\n",
    "        'PLANT_NAME': 'Plant',\n",
    "        'YEAR_MONTH': 'Year_Month',\n",
    "        'EXPECTED_INVENTORY': 'Expected_Inventory_MT',\n",
    "        'UNRESTRICTED_ACTUAL_MT': 'Actual_Inventory_MT',\n",
    "        'INBOUND_MT': 'Inbound_MT',\n",
    "        'PREDICTED_OUTBOUND_MT': 'Predicted_Outbound_MT',\n",
    "        'CAPACITY_MT': 'Capacity_MT',\n",
    "        'TOTAL_STOCK_AFTER_INBOUND': 'Total_Stock_After_Inbound',\n",
    "        'UTILIZATION_RATE': 'Utilization_Rate',\n",
    "        'RISK_LEVEL': 'Risk_Level',\n",
    "        'IS_OVERFLOW': 'Is_Overflow'\n",
    "    })\n",
    "    \n",
    "    return result, df_model\n",
    "\n",
    "def show_prediction_summary(result):\n",
    "    \"\"\"แสดงสรุปผลการทำนาย\"\"\"\n",
    "    if result.empty:\n",
    "        print(\"⚠️ ไม่มีข้อมูลสำหรับแสดงผล\")\n",
    "        return\n",
    "    \n",
    "    print(\"\\n\" + \"=\"*80)\n",
    "    print(\"📊 สรุปผลการทำนาย Inventory Overflow\")\n",
    "    print(\"=\"*80)\n",
    "    \n",
    "    for _, row in result.iterrows():\n",
    "        plant = row['Plant']\n",
    "        expected = row['Expected_Inventory_MT']\n",
    "        actual = row.get('Actual_Inventory_MT', 'N/A')\n",
    "        capacity = row['Capacity_MT']\n",
    "        utilization = row['Utilization_Rate']\n",
    "        risk = row['Risk_Level']\n",
    "        \n",
    "        print(f\"\\n🏭 {plant}:\")\n",
    "        print(f\"   Expected Inventory: {expected:,.0f} MT\")\n",
    "        if actual != 'N/A':\n",
    "            print(f\"   Actual Inventory: {actual:,.0f} MT\")\n",
    "        print(f\"   Capacity: {capacity:,.0f} MT\")\n",
    "        print(f\"   Utilization: {utilization:.1%}\")\n",
    "        print(f\"   Risk Level: {risk}\")\n",
    "        \n",
    "        if row['Is_Overflow']:\n",
    "            excess = expected - capacity\n",
    "            print(f\"   🚨 OVERFLOW: เกิน {excess:,.0f} MT\")\n",
    "        else:\n",
    "            spare = capacity - expected\n",
    "            print(f\"   ✅ SAFE: เหลือที่ {spare:,.0f} MT\")\n",
    "\n",
    "\n",
    "\n"
   ]
  },
  {
   "cell_type": "code",
   "execution_count": 73,
   "id": "1faf5eb3",
   "metadata": {},
   "outputs": [],
   "source": [
    "\n",
    "def debug_overflow_calculation(overflow_result):\n",
    "   \n",
    "    \n",
    "    for _, row in overflow_result.iterrows():\n",
    "        plant = row['Plant']\n",
    "        capacity = row['Capacity_MT']\n",
    "        expected_inv = row['Expected_Inventory_MT']\n",
    "        utilization = row.get('Utilization_Rate', 0) # Use .get for safety\n",
    "        actual_overflow = max(0, expected_inv - capacity)\n",
    "        \n",
    "        print(f\"🏭 {plant}:\")\n",
    "        print(f\"   Capacity: {capacity:,.2f} MT\")\n",
    "        print(f\"   Expected Inventory: {expected_inv:,.2f} MT\")\n",
    "        print(f\"   Utilization Rate: {utilization:.1%}\")\n",
    "        print(f\"   Calculated Overflow: {actual_overflow:,.2f} MT\")\n",
    "        \n",
    "        # --- ส่วนที่แก้ไข ---\n",
    "        # ตรวจสอบสถานะ: ถ้าล้นให้แสดง OVERFLOW, ถ้าไม่ล้นให้แสดงตาม Risk Level\n",
    "        if actual_overflow > 0:\n",
    "            status_message = \"⚠️ OVERFLOW\"\n",
    "        else:\n",
    "            risk_level = row.get('Risk_Level', 'UNKNOWN') # ดึงค่า Risk Level\n",
    "            if risk_level == 'CRITICAL':\n",
    "                status_message = \"🟠 CRITICAL\"\n",
    "            elif risk_level == 'HIGH':\n",
    "                status_message = \"🟡 HIGH\"\n",
    "            elif risk_level == 'NORMAL':\n",
    "                status_message = \"✅ NORMAL\"\n",
    "            elif risk_level == 'LOW':\n",
    "                status_message = \"🔵 LOW\"\n",
    "            else:\n",
    "                status_message = \"✅ OK\" # กรณีไม่พบค่า Risk Level\n",
    "                \n",
    "        print(f\"   Status: {status_message}\")\n",
    "        print()\n",
    "    \n",
    "    return overflow_result"
   ]
  },
  {
   "cell_type": "markdown",
   "id": "702c1435",
   "metadata": {},
   "source": [
    "- calculate all scenarios"
   ]
  },
  {
   "cell_type": "code",
   "execution_count": 74,
   "id": "c98152a1",
   "metadata": {},
   "outputs": [],
   "source": [
    "def calculate_all_scenarios(overflow_mt, remain_space, storage_cost_per_mt_day, transfer_cost_per_container_rate):\n",
    "    \"\"\"\n",
    "    คำนวณทั้ง 3 scenarios หลัก - แสดงครบทั้ง 3 เสมอ\n",
    "    \"\"\"\n",
    "    scenarios = {}\n",
    "    \n",
    "    # Scenario 1: ไม่โอนเลย - เก็บทั้งหมด\n",
    "    cost_no_transfer = overflow_mt * storage_cost_per_mt_day * 30\n",
    "    scenarios['no_transfer'] = {\n",
    "        'name': 'ไม่โอนเลย - เก็บทั้งหมด',\n",
    "        'transfer_mt': 0,\n",
    "        'remaining_mt': overflow_mt,\n",
    "        'transfer_cost': 0,\n",
    "        'storage_cost': cost_no_transfer,\n",
    "        'total_cost': cost_no_transfer,\n",
    "        'feasible': True,\n",
    "        'description': 'เก็บสินค้าล้นทั้งหมดในคลังเดิม'\n",
    "    }\n",
    "    \n",
    "    # Scenario 2: โอนทั้งหมด - ถ้าพื้นที่เพียงพอ\n",
    "    if remain_space >= overflow_mt:\n",
    "        containers_full = overflow_mt / 24.75\n",
    "        transfer_cost_full = containers_full * transfer_cost_per_container_rate\n",
    "        scenarios['transfer_all'] = {\n",
    "            'name': 'โอนทั้งหมด',\n",
    "            'transfer_mt': overflow_mt,\n",
    "            'remaining_mt': 0,\n",
    "            'transfer_cost': transfer_cost_full,\n",
    "            'storage_cost': 0,\n",
    "            'total_cost': transfer_cost_full,\n",
    "            'feasible': True,\n",
    "            'description': 'โอนสินค้าล้นทั้งหมดไปคลังอื่น'\n",
    "        }\n",
    "    else:\n",
    "        scenarios['transfer_all'] = {\n",
    "            'name': 'โอนทั้งหมด (ไม่เป็นไปได้)',\n",
    "            'transfer_mt': overflow_mt,\n",
    "            'remaining_mt': 0,\n",
    "            'transfer_cost': 0,\n",
    "            'storage_cost': 0,\n",
    "            'total_cost': float('inf'),\n",
    "            'feasible': False,\n",
    "            'description': f'ต้องการพื้นที่ {overflow_mt:,.2f} MT แต่มีเพียง {remain_space:,.2f} MT'\n",
    "        }\n",
    "    \n",
    "    # Scenario 3: โอนสูงสุดที่เป็นไปได้ - แสดงเสมอ\n",
    "    max_transferable = min(overflow_mt, remain_space)\n",
    "    \n",
    "    if max_transferable > 0 and max_transferable < overflow_mt:\n",
    "        # กรณีที่โอนได้บางส่วน (พื้นที่ไม่พอ)\n",
    "        containers_max = max_transferable / 24.75\n",
    "        transfer_cost_max = containers_max * transfer_cost_per_container_rate\n",
    "        remaining_after_max = overflow_mt - max_transferable\n",
    "        storage_cost_remaining = remaining_after_max * storage_cost_per_mt_day * 30\n",
    "        scenarios['transfer_max'] = {\n",
    "            'name': 'โอนสูงสุดที่เป็นไปได้',\n",
    "            'transfer_mt': max_transferable,\n",
    "            'remaining_mt': remaining_after_max,\n",
    "            'transfer_cost': transfer_cost_max,\n",
    "            'storage_cost': storage_cost_remaining,\n",
    "            'total_cost': transfer_cost_max + storage_cost_remaining,\n",
    "            'feasible': True,\n",
    "            'description': 'โอนให้เต็มพื้นที่ที่มี + เก็บส่วนที่เหลือ'\n",
    "        }\n",
    "    elif max_transferable == 0:\n",
    "        # กรณีที่ไม่สามารถโอนได้เลย\n",
    "        scenarios['transfer_max'] = {\n",
    "            'name': 'โอนสูงสุดที่เป็นไปได้ (ไม่สามารถโอนได้)',\n",
    "            'transfer_mt': 0,\n",
    "            'remaining_mt': overflow_mt,\n",
    "            'transfer_cost': 0,\n",
    "            'storage_cost': cost_no_transfer,\n",
    "            'total_cost': cost_no_transfer,\n",
    "            'feasible': False,\n",
    "            'description': 'คลังปลายทางเต็ม ไม่สามารถโอนได้'\n",
    "        }\n",
    "    else:\n",
    "        # กรณีที่โอนได้ทั้งหมด (max_transferable == overflow_mt)\n",
    "        containers_max = max_transferable / 24.75\n",
    "        transfer_cost_max = containers_max * transfer_cost_per_container_rate\n",
    "        scenarios['transfer_max'] = {\n",
    "            'name': 'โอนสูงสุดที่เป็นไปได้ (เท่ากับโอนทั้งหมด)',\n",
    "            'transfer_mt': max_transferable,\n",
    "            'remaining_mt': 0,\n",
    "            'transfer_cost': transfer_cost_max,\n",
    "            'storage_cost': 0,\n",
    "            'total_cost': transfer_cost_max,\n",
    "            'feasible': True,\n",
    "            'description': 'พื้นที่เพียงพอโอนทั้งหมด - ผลลัพธ์เหมือน Scenario 2'\n",
    "        }\n",
    "    \n",
    "    return scenarios\n",
    "    "
   ]
  },
  {
   "cell_type": "code",
   "execution_count": 75,
   "id": "f3c6db17",
   "metadata": {},
   "outputs": [],
   "source": [
    "\n",
    "\n",
    "def optimize_transfer_plan_with_all_scenarios(\n",
    "    overflow_plant, overflow_month_period, expected_inventory_mt, capacity_mt,\n",
    "    inventory_df, outbound_df, model_df,\n",
    "    storage_cost_per_mt_per_day, transfer_cost_per_container\n",
    "):\n",
    "    \"\"\"\n",
    "\n",
    "    \"\"\"\n",
    "    overflow_mt = max(0, expected_inventory_mt - capacity_mt)\n",
    "    if overflow_mt <= 0:\n",
    "        return {'status': 'no_actual_overflow'}\n",
    "\n",
    "    overflow_plant_norm = normalize(overflow_plant)\n",
    "    storage_cost = storage_cost_per_mt_per_day.get(overflow_plant_norm, 0)\n",
    "\n",
    "    # --- Step 1: หาข้อมูลคลังสินค้าปลายทาง ---\n",
    "    normalized_to_actual_plant = {normalize(k): k for k in storage_cost_per_mt_per_day.keys()}\n",
    "    target_plants = [p for p in normalized_to_actual_plant if p != overflow_plant_norm]\n",
    "    if not target_plants: return {'status': 'no_target_plant'}\n",
    "    target_plant_norm = target_plants[0]\n",
    "    actual_target_plant = normalized_to_actual_plant[target_plant_norm]\n",
    "\n",
    "    capacity_target = get_capacity({'PLANT_NAME': actual_target_plant, 'YEAR_MONTH': overflow_month_period})\n",
    "    target_prediction = model_df[(model_df['PLANT_NAME'].apply(normalize) == target_plant_norm) & (model_df['YEAR_MONTH'] == overflow_month_period)]\n",
    "    predicted_target_inventory = target_prediction['EXPECTED_INVENTORY'].iloc[0] if len(target_prediction) > 0 else 0\n",
    "    remain_space = max(0, capacity_target - predicted_target_inventory)\n",
    "\n",
    "    # --- Step 2: ค้นหา Candidate Materials ที่จะโอนย้าย  ---\n",
    "    print(f\"   - กำลังค้นหา Material ที่เหมาะสมสำหรับการโอนย้าย...\")\n",
    "    \n",
    "    last3_months = [overflow_month_period - i for i in range(1, 4)]\n",
    "    outbound_df['YEAR_MONTH'] = pd.to_datetime(outbound_df['OUTBOUND_DATE']).dt.to_period('M')\n",
    "    \n",
    "    demand_target = outbound_df[(outbound_df['PLANT_NAME'].apply(normalize) == target_plant_norm) & (outbound_df['YEAR_MONTH'].isin(last3_months))].groupby('MATERIAL_NAME')['NET_QUANTITY_MT'].sum().to_dict()\n",
    "    demand_overflow = outbound_df[(outbound_df['PLANT_NAME'].apply(normalize) == overflow_plant_norm) & (outbound_df['YEAR_MONTH'].isin(last3_months))].groupby('MATERIAL_NAME')['NET_QUANTITY_MT'].sum().to_dict()\n",
    "\n",
    "    prev_month = overflow_month_period - 1\n",
    "    inventory_df['YEAR_MONTH'] = pd.to_datetime(inventory_df['BALANCE_AS_OF_DATE']).dt.to_period('M')\n",
    "    stock_available = inventory_df[(inventory_df['PLANT_NAME'].apply(normalize) == overflow_plant_norm) & (inventory_df['YEAR_MONTH'] == prev_month)].set_index('MATERIAL_NAME')['UNRESTRICTED_STOCK_MT'].to_dict()\n",
    "\n",
    "    candidate_materials = [mat for mat, stock in stock_available.items() if stock > 0 and demand_target.get(mat, 0) >= demand_overflow.get(mat, 0)]\n",
    "            \n",
    "    print(f\"   - พบ Candidate Materials: {len(candidate_materials)} รายการ\")\n",
    "    if not candidate_materials:\n",
    "        return {'status': 'no_suitable_materials', 'message': 'ไม่พบ Material ที่เหมาะสมจะโอนย้าย'}\n",
    "\n",
    "    # --- Step 3: วนลูปทุกโหมดขนส่งเพื่อทำ LP Optimization  ---\n",
    "    all_modes_results = {}\n",
    "    for mode, transfer_rate in transfer_cost_per_container.items():\n",
    "        print(f\"   - 🚚 กำลังทำ Optimization สำหรับโหมด: {mode.upper()}\")\n",
    "        \n",
    "        prob = pulp.LpProblem(f\"Minimize_Cost_{mode}\", pulp.LpMinimize)\n",
    "        x = pulp.LpVariable.dicts(\"transfer\", candidate_materials, lowBound=0, cat='Continuous')\n",
    "        \n",
    "        total_transfer_mt = pulp.lpSum([x[mat] for mat in candidate_materials])\n",
    "        transfer_cost = (total_transfer_mt / 24.75) * transfer_rate\n",
    "        storage_cost_remaining = (overflow_mt - total_transfer_mt) * storage_cost * 30\n",
    "        \n",
    "        prob += transfer_cost + storage_cost_remaining\n",
    "\n",
    "        # Add Constraints\n",
    "        prob += total_transfer_mt <= overflow_mt\n",
    "        prob += total_transfer_mt <= remain_space\n",
    "        for mat in candidate_materials:\n",
    "            prob += x[mat] <= stock_available.get(mat, 0)\n",
    "\n",
    "        prob.solve(pulp.PULP_CBC_CMD(msg=0))\n",
    "\n",
    "        if prob.status == pulp.LpStatusOptimal:\n",
    "            cost_if_no_transfer = overflow_mt * storage_cost * 30\n",
    "            total_optimized_cost = pulp.value(prob.objective)\n",
    "            total_transfer_value = pulp.value(total_transfer_mt)\n",
    "            \n",
    "            # เก็บผลลัพธ์การโอนของแต่ละ Material\n",
    "            materials_transfer_list = []\n",
    "            for mat in candidate_materials:\n",
    "                transfer_qty = pulp.value(x[mat])\n",
    "                if transfer_qty > 0.01:\n",
    "                    materials_transfer_list.append({\n",
    "                        'MATERIAL_NAME': mat,\n",
    "                        'TRANSFER_QTY_MT': transfer_qty\n",
    "                    })\n",
    "\n",
    "            all_modes_results[mode] = {\n",
    "                'status': 'success',\n",
    "                'overflow_mt': overflow_mt,\n",
    "                'transferable_mt': total_transfer_value,\n",
    "                'total_optimized_cost': total_optimized_cost,\n",
    "                'cost_saving': cost_if_no_transfer - total_optimized_cost,\n",
    "                'materials_to_transfer': materials_transfer_list # <--- ใส่ข้อมูล Material ที่นี่\n",
    "            }\n",
    "\n",
    "    if not all_modes_results:\n",
    "        return {'status': 'optimization_failed'}\n",
    "\n",
    "    best_mode = min(all_modes_results, key=lambda m: all_modes_results[m].get('total_optimized_cost', float('inf')))\n",
    "    final_result = all_modes_results[best_mode]\n",
    "    final_result.update({\n",
    "        'best_mode': best_mode,\n",
    "        'all_modes_comparison': all_modes_results,\n",
    "        'overflow_plant': overflow_plant,\n",
    "        'target_plant': actual_target_plant\n",
    "    })\n",
    "\n",
    "    return final_result"
   ]
  },
  {
   "cell_type": "code",
   "execution_count": 76,
   "id": "ece647c1",
   "metadata": {},
   "outputs": [],
   "source": [
    "\n",
    "\n",
    "def display_detailed_results_with_scenarios(result):\n",
    "    \"\"\"\n",
    "    --- MODIFIED (Restored Material Display) ---\n",
    "    นำตารางแสดงรายการ Material กลับมา\n",
    "    \"\"\"\n",
    "    if result.get('status') == 'no_overflow':\n",
    "        print(f\"\\n✅ {result.get('message', 'No overflow detected.')}\")\n",
    "        return\n",
    "    \n",
    "    print(f\"\\n{'='*80}\")\n",
    "    print(\"📋 สรุปผลการวิเคราะห์และข้อเสนอแนะ\")\n",
    "    print(f\"{'='*80}\")\n",
    "    \n",
    "    for opt in result.get('optimization_results', []):\n",
    "        opt_result = opt['optimization_result']\n",
    "        \n",
    "        print(f\"\\n🏭 คลังสินค้า: {opt['plant'].upper()}\")\n",
    "        print(f\"{'-'*50}\")\n",
    "        \n",
    "        if opt_result.get('status') == 'success':\n",
    "            print(f\"   - สินค้าล้นทั้งหมด: {opt_result.get('overflow_mt', 0):,.2f} MT\")\n",
    "            \n",
    "            best_mode = opt_result.get('best_mode', 'N/A').upper()\n",
    "            print(f\"⭐ คำแนะนำที่ดีที่สุด (ใช้ {best_mode}):\")\n",
    "            print(f\"   - โอนสินค้าปริมาณรวม: {opt_result.get('transferable_mt', 0):,.2f} MT ไปยัง {opt_result.get('target_plant')}\")\n",
    "            \n",
    "       \n",
    "            materials_to_transfer = opt_result.get('materials_to_transfer', [])\n",
    "            if materials_to_transfer:\n",
    "                print(\"\\n   📋 รายการ Material ที่แนะนำให้โอนย้าย:\")\n",
    "                # สร้าง DataFrame เพื่อแสดงผลเป็นตารางสวยงาม\n",
    "                mat_df = pd.DataFrame(materials_to_transfer)\n",
    "                mat_df.rename(columns={'MATERIAL_NAME': 'Material', 'TRANSFER_QTY_MT': 'Quantity (MT)'}, inplace=True)\n",
    "                mat_df['Quantity (MT)'] = mat_df['Quantity (MT)'].map('{:,.2f}'.format)\n",
    "                print(mat_df.to_string(index=False))\n",
    "            # ---------------------\n",
    "\n",
    "            # แสดงการเปรียบเทียบค่าใช้จ่าย\n",
    "            print(f\"\\n🚚 การเปรียบเทียบค่าใช้จ่ายตามรูปแบบการขนส่ง:\")\n",
    "            comparison = opt_result.get('all_modes_comparison', {})\n",
    "            for mode, mode_res in sorted(comparison.items(), key=lambda item: item[1].get('total_optimized_cost', float('inf'))):\n",
    "                icon = \"🏆\" if mode.upper() == best_mode else \"   \"\n",
    "                cost = mode_res.get('total_optimized_cost', 0)\n",
    "                print(f\"   {icon} {mode.upper():<10}: ค่าใช้จ่ายรวม {cost:>15,.2f} SGD\")\n",
    "\n",
    "            # แสดงการประหยัด\n",
    "            print(f\"\\n💰 สรุปค่าใช้จ่าย:\")\n",
    "            cost_if_no_transfer = opt_result['all_modes_comparison'][opt_result['best_mode']]['cost_saving'] + opt_result['total_optimized_cost']\n",
    "            print(f\"   - ค่าใช้จ่ายหาก 'ไม่ทำอะไรเลย': {cost_if_no_transfer:,.2f} SGD\")\n",
    "            print(f\"   - ค่าใช้จ่ายตามคำแนะนำ: {opt_result.get('total_optimized_cost', 0):,.2f} SGD\")\n",
    "            print(f\"   - ✨ ประหยัดได้: {opt_result.get('cost_saving', 0):,.2f} SGD\")\n",
    "        else:\n",
    "            print(f\"\\n   ⚠️ ไม่สามารถหาทางแก้ไขได้: {opt_result.get('message', 'Unknown error.')}\")"
   ]
  },
  {
   "cell_type": "code",
   "execution_count": 77,
   "id": "1029875e",
   "metadata": {},
   "outputs": [],
   "source": [
    "\n",
    "\n",
    "def integrated_overflow_optimization_with_scenarios(\n",
    "    target_year, target_month,\n",
    "    inventory_df, outbound_df, inbound_df,\n",
    "    storage_cost_per_mt_per_day, transfer_cost_per_container, forecast_df\n",
    "):\n",
    "    \"\"\"Main integrated optimization function with complete scenario analysis\"\"\"\n",
    "\n",
    "    # Prepare data\n",
    "    merged_df = prepare_data_for_analysis(inventory_df, outbound_df, inbound_df, forecast_df)\n",
    "\n",
    "    # Analyze overflow\n",
    "    overflow_result, model_df = analyze_overflow_with_xgb_improved(merged_df, target_year, target_month)\n",
    "\n",
    "    # Debug calculation\n",
    "    overflow_result = debug_overflow_calculation(overflow_result)\n",
    "\n",
    "    # Find actual overflow plants\n",
    "    actual_overflow_plants = []\n",
    "    for _, row in overflow_result.iterrows():\n",
    "        actual_overflow = max(0, row['Expected_Inventory_MT'] - row['Capacity_MT'])\n",
    "        if actual_overflow > 0:\n",
    "            # ใช้ to_dict() เพื่อให้แก้ไขค่าใน row ได้ง่าย\n",
    "            row_dict = row.to_dict()\n",
    "            row_dict['actual_overflow_mt'] = actual_overflow\n",
    "            actual_overflow_plants.append(row_dict)\n",
    "\n",
    "    if not actual_overflow_plants:\n",
    "        return {\n",
    "            'status': 'no_overflow',\n",
    "            'message': f'ไม่พบคลังที่ล้นจริงในเดือน {target_year}-{target_month:02d}',\n",
    "            'overflow_analysis': overflow_result.to_dict('records'),\n",
    "            'model_df': model_df\n",
    "        }\n",
    "\n",
    "    # Optimize for each overflow plant\n",
    "    optimization_results = []\n",
    "\n",
    "    for plant_row in actual_overflow_plants:\n",
    "        plant_name = plant_row['Plant']\n",
    "        expected_inventory = plant_row['Expected_Inventory_MT']\n",
    "        capacity = plant_row['Capacity_MT']\n",
    "\n",
    "        print(f\"\\n🔧 กำลังทำ optimization สำหรับ {plant_name}\")\n",
    "\n",
    "        target_period = plant_row['Year_Month']\n",
    "\n",
    "        \n",
    "    \n",
    "        opt_result = optimize_transfer_plan_with_all_scenarios(\n",
    "            overflow_plant=plant_name,\n",
    "            overflow_month_period=target_period,\n",
    "            expected_inventory_mt=expected_inventory,\n",
    "            capacity_mt=capacity,\n",
    "            inventory_df=inventory_df,\n",
    "            outbound_df=outbound_df,\n",
    "            model_df=model_df,\n",
    "            storage_cost_per_mt_per_day=storage_cost_per_mt_per_day,\n",
    "            transfer_cost_per_container=transfer_cost_per_container\n",
    "        )\n",
    "\n",
    "        optimization_results.append({\n",
    "            'plant': plant_name,\n",
    "            'expected_inventory_mt': expected_inventory,\n",
    "            'capacity_mt': capacity,\n",
    "            'actual_overflow_mt': plant_row['actual_overflow_mt'],\n",
    "            'optimization_result': opt_result\n",
    "        })\n",
    "\n",
    "    return {\n",
    "        'status': 'overflow_detected',\n",
    "        'target_date': f\"{target_year}-{target_month:02d}\",\n",
    "        'overflow_analysis': overflow_result.to_dict('records'),\n",
    "        'optimization_results': optimization_results,\n",
    "        'model_df': model_df\n",
    "    }\n"
   ]
  },
  {
   "cell_type": "code",
   "execution_count": 78,
   "id": "7212a56f",
   "metadata": {},
   "outputs": [],
   "source": [
    "\n",
    "def run_complete_optimization_with_all_scenarios(target_year, target_month,\n",
    "                                               inventory_df, outbound_df, inbound_df, forecast_df,\n",
    "                                               storage_cost_per_mt_per_day, transfer_cost_per_container,\n",
    "                                               show_details=True):\n",
    "    \"\"\"Complete optimization function with all scenarios analysis\"\"\"\n",
    "\n",
    "    result = integrated_overflow_optimization_with_scenarios(\n",
    "        target_year=target_year,\n",
    "        target_month=target_month,\n",
    "        inventory_df=inventory_df,\n",
    "        outbound_df=outbound_df,\n",
    "        inbound_df=inbound_df,\n",
    "        forecast_df=forecast_df,\n",
    "        storage_cost_per_mt_per_day=storage_cost_per_mt_per_day,\n",
    "        transfer_cost_per_container=transfer_cost_per_container\n",
    "    )\n",
    "\n",
    "    if show_details:\n",
    "        display_detailed_results_with_scenarios(result)\n",
    "\n",
    "    return result\n",
    "\n",
    "def run_monthly_optimization_with_all_scenarios(target_year, target_month, show_details=True):\n",
    "    \"\"\"Wrapper function to run the monthly optimization easily.\"\"\"\n",
    "    try:\n",
    "        storage_cost, transfer_cost = parse_operation_costs(operationcost)\n",
    "        \n",
    "        return run_complete_optimization_with_all_scenarios(\n",
    "            target_year=target_year,\n",
    "            target_month=target_month,\n",
    "            inventory_df=inventory,\n",
    "            outbound_df=outbound,\n",
    "            inbound_df=inbound,\n",
    "            forecast_df=forecast,\n",
    "            storage_cost_per_mt_per_day=storage_cost,\n",
    "            transfer_cost_per_container=transfer_cost,\n",
    "            show_details=show_details\n",
    "        )\n",
    "    except NameError as e:\n",
    "        print(f\"❌ Error: Missing required data - {e}\")\n",
    "        return None\n",
    "\n"
   ]
  },
  {
   "cell_type": "markdown",
   "id": "b96eba02",
   "metadata": {},
   "source": [
    "* result"
   ]
  },
  {
   "cell_type": "code",
   "execution_count": 79,
   "id": "3679a7a4",
   "metadata": {},
   "outputs": [
    {
     "name": "stdout",
     "output_type": "stream",
     "text": [
      "🚚 Transport modes found: ['truck', 'marine']\n",
      "\n",
      "📊 Model Performance:\n",
      "   Train MAE: 5487.78\n",
      "   Test MAE: 5164.84\n",
      "\n",
      "🔍 Prediction Check:\n",
      "   Unique predictions: 26\n",
      "   Prediction range: 31061.24 - 65447.14\n",
      "   CHINA-WAREHOUSE: Latest prediction=56091.31, Actual=72553.40\n",
      "   SINGAPORE-WAREHOUSE: Latest prediction=47371.11, Actual=57333.93\n",
      "🏭 CHINA-WAREHOUSE:\n",
      "   Capacity: 70,000.00 MT\n",
      "   Expected Inventory: 51,141.25 MT\n",
      "   Utilization Rate: 73.1%\n",
      "   Calculated Overflow: 0.00 MT\n",
      "   Status: ✅ NORMAL\n",
      "\n",
      "🏭 SINGAPORE-WAREHOUSE:\n",
      "   Capacity: 53,500.00 MT\n",
      "   Expected Inventory: 56,171.31 MT\n",
      "   Utilization Rate: 105.0%\n",
      "   Calculated Overflow: 2,671.31 MT\n",
      "   Status: ⚠️ OVERFLOW\n",
      "\n",
      "\n",
      "🔧 กำลังทำ optimization สำหรับ SINGAPORE-WAREHOUSE\n",
      "   - กำลังค้นหา Material ที่เหมาะสมสำหรับการโอนย้าย...\n",
      "   - พบ Candidate Materials: 92 รายการ\n",
      "   - 🚚 กำลังทำ Optimization สำหรับโหมด: TRUCK\n",
      "   - 🚚 กำลังทำ Optimization สำหรับโหมด: MARINE\n",
      "\n",
      "================================================================================\n",
      "📋 สรุปผลการวิเคราะห์และข้อเสนอแนะ\n",
      "================================================================================\n",
      "\n",
      "🏭 คลังสินค้า: SINGAPORE-WAREHOUSE\n",
      "--------------------------------------------------\n",
      "   - สินค้าล้นทั้งหมด: 2,671.31 MT\n",
      "⭐ คำแนะนำที่ดีที่สุด (ใช้ MARINE):\n",
      "   - โอนสินค้าปริมาณรวม: 2,671.31 MT ไปยัง china warehouse\n",
      "\n",
      "   📋 รายการ Material ที่แนะนำให้โอนย้าย:\n",
      "Material Quantity (MT)\n",
      "MAT-0034          5.50\n",
      "MAT-0137          1.38\n",
      "MAT-0230        189.05\n",
      "MAT-0327         22.00\n",
      "MAT-0356         11.00\n",
      "MAT-0111          2.75\n",
      "MAT-0213         74.10\n",
      "MAT-0390         81.12\n",
      "MAT-0112         46.75\n",
      "MAT-0088          9.53\n",
      "MAT-0396         24.73\n",
      "MAT-0064          2.10\n",
      "MAT-0125          0.75\n",
      "MAT-0057        189.43\n",
      "MAT-0268          1.50\n",
      "MAT-0276          4.12\n",
      "MAT-0248          3.62\n",
      "MAT-0063          8.15\n",
      "MAT-0005         10.50\n",
      "MAT-0351         20.60\n",
      "MAT-0385          4.12\n",
      "MAT-0386          2.75\n",
      "MAT-0269          5.50\n",
      "MAT-0007          0.03\n",
      "MAT-0323         25.50\n",
      "MAT-0035         82.50\n",
      "MAT-0066         24.75\n",
      "MAT-0367         24.75\n",
      "MAT-0116         23.38\n",
      "MAT-0354         48.12\n",
      "MAT-0309         49.50\n",
      "MAT-0308         42.58\n",
      "MAT-0138         21.40\n",
      "MAT-0068         24.75\n",
      "MAT-0211         24.75\n",
      "MAT-0207         42.62\n",
      "MAT-0028         17.88\n",
      "MAT-0397          3.13\n",
      "MAT-0180         16.50\n",
      "MAT-0065         74.20\n",
      "MAT-0032         25.50\n",
      "MAT-0339         24.00\n",
      "MAT-0295         31.62\n",
      "MAT-0104         23.38\n",
      "MAT-0039         19.25\n",
      "MAT-0274         66.00\n",
      "MAT-0037         24.75\n",
      "MAT-0179         23.38\n",
      "MAT-0273         49.50\n",
      "MAT-0218         37.12\n",
      "MAT-0105         24.75\n",
      "MAT-0029         15.80\n",
      "MAT-0217        101.25\n",
      "MAT-0186        556.52\n",
      "MAT-0357         11.53\n",
      "MAT-0080         19.25\n",
      "MAT-0022          6.88\n",
      "MAT-0364          6.88\n",
      "MAT-0258         19.25\n",
      "MAT-0098          1.38\n",
      "MAT-0130          2.40\n",
      "MAT-0374         17.88\n",
      "MAT-0241          3.60\n",
      "MAT-0194          5.42\n",
      "MAT-0257          0.15\n",
      "MAT-0078         50.58\n",
      "MAT-0146          4.10\n",
      "MAT-0096          4.12\n",
      "MAT-0222         67.38\n",
      "MAT-0123         48.12\n",
      "MAT-0124          8.25\n",
      "MAT-0320          0.70\n",
      "MAT-0252          0.05\n",
      "MAT-0376          0.50\n",
      "MAT-0183          0.35\n",
      "MAT-0100          0.42\n",
      "MAT-0260          4.20\n",
      "MAT-0139          7.20\n",
      "MAT-0141         57.75\n",
      "MAT-0163         21.93\n",
      "MAT-0319         10.85\n",
      "\n",
      "🚚 การเปรียบเทียบค่าใช้จ่ายตามรูปแบบการขนส่ง:\n",
      "   🏆 MARINE    : ค่าใช้จ่ายรวม       10,304.24 SGD\n",
      "       TRUCK     : ค่าใช้จ่ายรวม       16,189.75 SGD\n",
      "\n",
      "💰 สรุปค่าใช้จ่าย:\n",
      "   - ค่าใช้จ่ายหาก 'ไม่ทำอะไรเลย': 1,202,088.87 SGD\n",
      "   - ค่าใช้จ่ายตามคำแนะนำ: 10,304.24 SGD\n",
      "   - ✨ ประหยัดได้: 1,191,784.63 SGD\n"
     ]
    }
   ],
   "source": [
    "result = run_monthly_optimization_with_all_scenarios(2024, 3, show_details=True)"
   ]
  },
  {
   "cell_type": "markdown",
   "id": "3400ff5f",
   "metadata": {},
   "source": [
    "- result visualize"
   ]
  },
  {
   "cell_type": "code",
   "execution_count": 80,
   "id": "dc0c8299",
   "metadata": {},
   "outputs": [
    {
     "name": "stdout",
     "output_type": "stream",
     "text": [
      "✨ EXECUTIVE SUMMARY: INVENTORY OPTIMIZATION DASHBOARD (2024-03) ✨\n",
      "\n",
      "Summary for 2024-03:\n",
      "   Total Warehouses Analyzed: 2\n",
      "   🚨 Oh no! 1 warehouse(s) are projected to OVERFLOW!\n"
     ]
    },
    {
     "data": {
      "application/vnd.plotly.v1+json": {
       "config": {
        "plotlyServerURL": "https://plot.ly"
       },
       "data": [
        {
         "hovertemplate": "Risk_Level=OVERFLOW<br>Warehouse=%{x}<br>Utilization Rate (%)=%{y}<extra></extra>",
         "legendgroup": "OVERFLOW",
         "marker": {
          "color": "#FF6B6B",
          "pattern": {
           "shape": ""
          }
         },
         "name": "OVERFLOW",
         "orientation": "v",
         "showlegend": true,
         "textposition": "auto",
         "texttemplate": "%{y}",
         "type": "bar",
         "x": [
          "SINGAPORE-WAREHOUSE"
         ],
         "xaxis": "x",
         "y": {
          "bdata": "KlM5c4TM8D8=",
          "dtype": "f8"
         },
         "yaxis": "y"
        },
        {
         "hovertemplate": "Risk_Level=NORMAL<br>Warehouse=%{x}<br>Utilization Rate (%)=%{y}<extra></extra>",
         "legendgroup": "NORMAL",
         "marker": {
          "color": "#8AFF8A",
          "pattern": {
           "shape": ""
          }
         },
         "name": "NORMAL",
         "orientation": "v",
         "showlegend": true,
         "textposition": "auto",
         "texttemplate": "%{y}",
         "type": "bar",
         "x": [
          "CHINA-WAREHOUSE"
         ],
         "xaxis": "x",
         "y": {
          "bdata": "bG0eyPxg5z8=",
          "dtype": "f8"
         },
         "yaxis": "y"
        }
       ],
       "layout": {
        "barmode": "relative",
        "font": {
         "color": "RebeccaPurple",
         "family": "Arial",
         "size": 12
        },
        "height": 450,
        "hovermode": "x unified",
        "legend": {
         "title": {
          "text": "Risk_Level"
         },
         "tracegroupgap": 0
        },
        "shapes": [
         {
          "line": {
           "color": "#FF0000",
           "dash": "dashdot",
           "width": 2
          },
          "name": "100% Capacity",
          "type": "line",
          "x0": -0.5,
          "x1": 1.5,
          "y0": 1,
          "y1": 1
         }
        ],
        "showlegend": true,
        "template": {
         "data": {
          "bar": [
           {
            "error_x": {
             "color": "#2a3f5f"
            },
            "error_y": {
             "color": "#2a3f5f"
            },
            "marker": {
             "line": {
              "color": "white",
              "width": 0.5
             },
             "pattern": {
              "fillmode": "overlay",
              "size": 10,
              "solidity": 0.2
             }
            },
            "type": "bar"
           }
          ],
          "barpolar": [
           {
            "marker": {
             "line": {
              "color": "white",
              "width": 0.5
             },
             "pattern": {
              "fillmode": "overlay",
              "size": 10,
              "solidity": 0.2
             }
            },
            "type": "barpolar"
           }
          ],
          "carpet": [
           {
            "aaxis": {
             "endlinecolor": "#2a3f5f",
             "gridcolor": "#C8D4E3",
             "linecolor": "#C8D4E3",
             "minorgridcolor": "#C8D4E3",
             "startlinecolor": "#2a3f5f"
            },
            "baxis": {
             "endlinecolor": "#2a3f5f",
             "gridcolor": "#C8D4E3",
             "linecolor": "#C8D4E3",
             "minorgridcolor": "#C8D4E3",
             "startlinecolor": "#2a3f5f"
            },
            "type": "carpet"
           }
          ],
          "choropleth": [
           {
            "colorbar": {
             "outlinewidth": 0,
             "ticks": ""
            },
            "type": "choropleth"
           }
          ],
          "contour": [
           {
            "colorbar": {
             "outlinewidth": 0,
             "ticks": ""
            },
            "colorscale": [
             [
              0,
              "#0d0887"
             ],
             [
              0.1111111111111111,
              "#46039f"
             ],
             [
              0.2222222222222222,
              "#7201a8"
             ],
             [
              0.3333333333333333,
              "#9c179e"
             ],
             [
              0.4444444444444444,
              "#bd3786"
             ],
             [
              0.5555555555555556,
              "#d8576b"
             ],
             [
              0.6666666666666666,
              "#ed7953"
             ],
             [
              0.7777777777777778,
              "#fb9f3a"
             ],
             [
              0.8888888888888888,
              "#fdca26"
             ],
             [
              1,
              "#f0f921"
             ]
            ],
            "type": "contour"
           }
          ],
          "contourcarpet": [
           {
            "colorbar": {
             "outlinewidth": 0,
             "ticks": ""
            },
            "type": "contourcarpet"
           }
          ],
          "heatmap": [
           {
            "colorbar": {
             "outlinewidth": 0,
             "ticks": ""
            },
            "colorscale": [
             [
              0,
              "#0d0887"
             ],
             [
              0.1111111111111111,
              "#46039f"
             ],
             [
              0.2222222222222222,
              "#7201a8"
             ],
             [
              0.3333333333333333,
              "#9c179e"
             ],
             [
              0.4444444444444444,
              "#bd3786"
             ],
             [
              0.5555555555555556,
              "#d8576b"
             ],
             [
              0.6666666666666666,
              "#ed7953"
             ],
             [
              0.7777777777777778,
              "#fb9f3a"
             ],
             [
              0.8888888888888888,
              "#fdca26"
             ],
             [
              1,
              "#f0f921"
             ]
            ],
            "type": "heatmap"
           }
          ],
          "histogram": [
           {
            "marker": {
             "pattern": {
              "fillmode": "overlay",
              "size": 10,
              "solidity": 0.2
             }
            },
            "type": "histogram"
           }
          ],
          "histogram2d": [
           {
            "colorbar": {
             "outlinewidth": 0,
             "ticks": ""
            },
            "colorscale": [
             [
              0,
              "#0d0887"
             ],
             [
              0.1111111111111111,
              "#46039f"
             ],
             [
              0.2222222222222222,
              "#7201a8"
             ],
             [
              0.3333333333333333,
              "#9c179e"
             ],
             [
              0.4444444444444444,
              "#bd3786"
             ],
             [
              0.5555555555555556,
              "#d8576b"
             ],
             [
              0.6666666666666666,
              "#ed7953"
             ],
             [
              0.7777777777777778,
              "#fb9f3a"
             ],
             [
              0.8888888888888888,
              "#fdca26"
             ],
             [
              1,
              "#f0f921"
             ]
            ],
            "type": "histogram2d"
           }
          ],
          "histogram2dcontour": [
           {
            "colorbar": {
             "outlinewidth": 0,
             "ticks": ""
            },
            "colorscale": [
             [
              0,
              "#0d0887"
             ],
             [
              0.1111111111111111,
              "#46039f"
             ],
             [
              0.2222222222222222,
              "#7201a8"
             ],
             [
              0.3333333333333333,
              "#9c179e"
             ],
             [
              0.4444444444444444,
              "#bd3786"
             ],
             [
              0.5555555555555556,
              "#d8576b"
             ],
             [
              0.6666666666666666,
              "#ed7953"
             ],
             [
              0.7777777777777778,
              "#fb9f3a"
             ],
             [
              0.8888888888888888,
              "#fdca26"
             ],
             [
              1,
              "#f0f921"
             ]
            ],
            "type": "histogram2dcontour"
           }
          ],
          "mesh3d": [
           {
            "colorbar": {
             "outlinewidth": 0,
             "ticks": ""
            },
            "type": "mesh3d"
           }
          ],
          "parcoords": [
           {
            "line": {
             "colorbar": {
              "outlinewidth": 0,
              "ticks": ""
             }
            },
            "type": "parcoords"
           }
          ],
          "pie": [
           {
            "automargin": true,
            "type": "pie"
           }
          ],
          "scatter": [
           {
            "fillpattern": {
             "fillmode": "overlay",
             "size": 10,
             "solidity": 0.2
            },
            "type": "scatter"
           }
          ],
          "scatter3d": [
           {
            "line": {
             "colorbar": {
              "outlinewidth": 0,
              "ticks": ""
             }
            },
            "marker": {
             "colorbar": {
              "outlinewidth": 0,
              "ticks": ""
             }
            },
            "type": "scatter3d"
           }
          ],
          "scattercarpet": [
           {
            "marker": {
             "colorbar": {
              "outlinewidth": 0,
              "ticks": ""
             }
            },
            "type": "scattercarpet"
           }
          ],
          "scattergeo": [
           {
            "marker": {
             "colorbar": {
              "outlinewidth": 0,
              "ticks": ""
             }
            },
            "type": "scattergeo"
           }
          ],
          "scattergl": [
           {
            "marker": {
             "colorbar": {
              "outlinewidth": 0,
              "ticks": ""
             }
            },
            "type": "scattergl"
           }
          ],
          "scattermap": [
           {
            "marker": {
             "colorbar": {
              "outlinewidth": 0,
              "ticks": ""
             }
            },
            "type": "scattermap"
           }
          ],
          "scattermapbox": [
           {
            "marker": {
             "colorbar": {
              "outlinewidth": 0,
              "ticks": ""
             }
            },
            "type": "scattermapbox"
           }
          ],
          "scatterpolar": [
           {
            "marker": {
             "colorbar": {
              "outlinewidth": 0,
              "ticks": ""
             }
            },
            "type": "scatterpolar"
           }
          ],
          "scatterpolargl": [
           {
            "marker": {
             "colorbar": {
              "outlinewidth": 0,
              "ticks": ""
             }
            },
            "type": "scatterpolargl"
           }
          ],
          "scatterternary": [
           {
            "marker": {
             "colorbar": {
              "outlinewidth": 0,
              "ticks": ""
             }
            },
            "type": "scatterternary"
           }
          ],
          "surface": [
           {
            "colorbar": {
             "outlinewidth": 0,
             "ticks": ""
            },
            "colorscale": [
             [
              0,
              "#0d0887"
             ],
             [
              0.1111111111111111,
              "#46039f"
             ],
             [
              0.2222222222222222,
              "#7201a8"
             ],
             [
              0.3333333333333333,
              "#9c179e"
             ],
             [
              0.4444444444444444,
              "#bd3786"
             ],
             [
              0.5555555555555556,
              "#d8576b"
             ],
             [
              0.6666666666666666,
              "#ed7953"
             ],
             [
              0.7777777777777778,
              "#fb9f3a"
             ],
             [
              0.8888888888888888,
              "#fdca26"
             ],
             [
              1,
              "#f0f921"
             ]
            ],
            "type": "surface"
           }
          ],
          "table": [
           {
            "cells": {
             "fill": {
              "color": "#EBF0F8"
             },
             "line": {
              "color": "white"
             }
            },
            "header": {
             "fill": {
              "color": "#C8D4E3"
             },
             "line": {
              "color": "white"
             }
            },
            "type": "table"
           }
          ]
         },
         "layout": {
          "annotationdefaults": {
           "arrowcolor": "#2a3f5f",
           "arrowhead": 0,
           "arrowwidth": 1
          },
          "autotypenumbers": "strict",
          "coloraxis": {
           "colorbar": {
            "outlinewidth": 0,
            "ticks": ""
           }
          },
          "colorscale": {
           "diverging": [
            [
             0,
             "#8e0152"
            ],
            [
             0.1,
             "#c51b7d"
            ],
            [
             0.2,
             "#de77ae"
            ],
            [
             0.3,
             "#f1b6da"
            ],
            [
             0.4,
             "#fde0ef"
            ],
            [
             0.5,
             "#f7f7f7"
            ],
            [
             0.6,
             "#e6f5d0"
            ],
            [
             0.7,
             "#b8e186"
            ],
            [
             0.8,
             "#7fbc41"
            ],
            [
             0.9,
             "#4d9221"
            ],
            [
             1,
             "#276419"
            ]
           ],
           "sequential": [
            [
             0,
             "#0d0887"
            ],
            [
             0.1111111111111111,
             "#46039f"
            ],
            [
             0.2222222222222222,
             "#7201a8"
            ],
            [
             0.3333333333333333,
             "#9c179e"
            ],
            [
             0.4444444444444444,
             "#bd3786"
            ],
            [
             0.5555555555555556,
             "#d8576b"
            ],
            [
             0.6666666666666666,
             "#ed7953"
            ],
            [
             0.7777777777777778,
             "#fb9f3a"
            ],
            [
             0.8888888888888888,
             "#fdca26"
            ],
            [
             1,
             "#f0f921"
            ]
           ],
           "sequentialminus": [
            [
             0,
             "#0d0887"
            ],
            [
             0.1111111111111111,
             "#46039f"
            ],
            [
             0.2222222222222222,
             "#7201a8"
            ],
            [
             0.3333333333333333,
             "#9c179e"
            ],
            [
             0.4444444444444444,
             "#bd3786"
            ],
            [
             0.5555555555555556,
             "#d8576b"
            ],
            [
             0.6666666666666666,
             "#ed7953"
            ],
            [
             0.7777777777777778,
             "#fb9f3a"
            ],
            [
             0.8888888888888888,
             "#fdca26"
            ],
            [
             1,
             "#f0f921"
            ]
           ]
          },
          "colorway": [
           "#636efa",
           "#EF553B",
           "#00cc96",
           "#ab63fa",
           "#FFA15A",
           "#19d3f3",
           "#FF6692",
           "#B6E880",
           "#FF97FF",
           "#FECB52"
          ],
          "font": {
           "color": "#2a3f5f"
          },
          "geo": {
           "bgcolor": "white",
           "lakecolor": "white",
           "landcolor": "white",
           "showlakes": true,
           "showland": true,
           "subunitcolor": "#C8D4E3"
          },
          "hoverlabel": {
           "align": "left"
          },
          "hovermode": "closest",
          "mapbox": {
           "style": "light"
          },
          "paper_bgcolor": "white",
          "plot_bgcolor": "white",
          "polar": {
           "angularaxis": {
            "gridcolor": "#EBF0F8",
            "linecolor": "#EBF0F8",
            "ticks": ""
           },
           "bgcolor": "white",
           "radialaxis": {
            "gridcolor": "#EBF0F8",
            "linecolor": "#EBF0F8",
            "ticks": ""
           }
          },
          "scene": {
           "xaxis": {
            "backgroundcolor": "white",
            "gridcolor": "#DFE8F3",
            "gridwidth": 2,
            "linecolor": "#EBF0F8",
            "showbackground": true,
            "ticks": "",
            "zerolinecolor": "#EBF0F8"
           },
           "yaxis": {
            "backgroundcolor": "white",
            "gridcolor": "#DFE8F3",
            "gridwidth": 2,
            "linecolor": "#EBF0F8",
            "showbackground": true,
            "ticks": "",
            "zerolinecolor": "#EBF0F8"
           },
           "zaxis": {
            "backgroundcolor": "white",
            "gridcolor": "#DFE8F3",
            "gridwidth": 2,
            "linecolor": "#EBF0F8",
            "showbackground": true,
            "ticks": "",
            "zerolinecolor": "#EBF0F8"
           }
          },
          "shapedefaults": {
           "line": {
            "color": "#2a3f5f"
           }
          },
          "ternary": {
           "aaxis": {
            "gridcolor": "#DFE8F3",
            "linecolor": "#A2B1C6",
            "ticks": ""
           },
           "baxis": {
            "gridcolor": "#DFE8F3",
            "linecolor": "#A2B1C6",
            "ticks": ""
           },
           "bgcolor": "white",
           "caxis": {
            "gridcolor": "#DFE8F3",
            "linecolor": "#A2B1C6",
            "ticks": ""
           }
          },
          "title": {
           "x": 0.05
          },
          "xaxis": {
           "automargin": true,
           "gridcolor": "#EBF0F8",
           "linecolor": "#EBF0F8",
           "ticks": "",
           "title": {
            "standoff": 15
           },
           "zerolinecolor": "#EBF0F8",
           "zerolinewidth": 2
          },
          "yaxis": {
           "automargin": true,
           "gridcolor": "#EBF0F8",
           "linecolor": "#EBF0F8",
           "ticks": "",
           "title": {
            "standoff": 15
           },
           "zerolinecolor": "#EBF0F8",
           "zerolinewidth": 2
          }
         }
        },
        "title": {
         "text": "<b>Warehouse Utilization & Risk (2024-03)</b>",
         "x": 0.5
        },
        "xaxis": {
         "anchor": "y",
         "domain": [
          0,
          1
         ],
         "title": {
          "text": "Warehouse"
         }
        },
        "yaxis": {
         "anchor": "x",
         "domain": [
          0,
          1
         ],
         "range": [
          0,
          1.2
         ],
         "tickformat": ".1%",
         "title": {
          "text": "Utilization Rate (%)"
         }
        }
       }
      }
     },
     "metadata": {},
     "output_type": "display_data"
    },
    {
     "name": "stdout",
     "output_type": "stream",
     "text": [
      "✨ OPTIMIZATION MAGIC: Cost Savings & Transfer Plans (2024-03) ✨\n",
      "\n",
      "### 🏠 SINGAPORE-WAREHOUSE - Overflow Solution!\n",
      "   - **Overflow Detected**: 2,671.31 MT 📦\n",
      "   - **Recommended Plan**: Transfer 2,671.31 MT to china warehouse via MARINE!\n",
      "   - **Original Cost (without action)**: 1,202,088.87 SGD 💔\n",
      "   - **Optimized Cost (with transfer)**: 10,304.24 SGD ✅\n",
      "   - **🎉 YOU SAVE**: <b>1,191,784.63 SGD</b>! 🎉\n"
     ]
    },
    {
     "data": {
      "application/vnd.plotly.v1+json": {
       "config": {
        "plotlyServerURL": "https://plot.ly"
       },
       "data": [
        {
         "hovertemplate": "Scenario=%{x}<br>Cost (SGD)=%{y}<extra></extra>",
         "legendgroup": "Cost without action",
         "marker": {
          "color": "#FF9999",
          "pattern": {
           "shape": ""
          }
         },
         "name": "Cost without action",
         "orientation": "v",
         "showlegend": true,
         "textposition": "auto",
         "texttemplate": "%{y}",
         "type": "bar",
         "x": [
          "Cost without action"
         ],
         "xaxis": "x",
         "y": {
          "bdata": "AAAA3qhXMkE=",
          "dtype": "f8"
         },
         "yaxis": "y"
        },
        {
         "hovertemplate": "Scenario=%{x}<br>Cost (SGD)=%{y}<extra></extra>",
         "legendgroup": "Optimized Cost",
         "marker": {
          "color": "#99FF99",
          "pattern": {
           "shape": ""
          }
         },
         "name": "Optimized Cost",
         "orientation": "v",
         "showlegend": true,
         "textposition": "auto",
         "texttemplate": "%{y}",
         "type": "bar",
         "x": [
          "Optimized Cost"
         ],
         "xaxis": "x",
         "y": {
          "bdata": "A/TdJx4gxEA=",
          "dtype": "f8"
         },
         "yaxis": "y"
        }
       ],
       "layout": {
        "barmode": "relative",
        "font": {
         "color": "RebeccaPurple",
         "family": "Arial",
         "size": 12
        },
        "height": 400,
        "legend": {
         "title": {
          "text": "Scenario"
         },
         "tracegroupgap": 0
        },
        "template": {
         "data": {
          "bar": [
           {
            "error_x": {
             "color": "#2a3f5f"
            },
            "error_y": {
             "color": "#2a3f5f"
            },
            "marker": {
             "line": {
              "color": "white",
              "width": 0.5
             },
             "pattern": {
              "fillmode": "overlay",
              "size": 10,
              "solidity": 0.2
             }
            },
            "type": "bar"
           }
          ],
          "barpolar": [
           {
            "marker": {
             "line": {
              "color": "white",
              "width": 0.5
             },
             "pattern": {
              "fillmode": "overlay",
              "size": 10,
              "solidity": 0.2
             }
            },
            "type": "barpolar"
           }
          ],
          "carpet": [
           {
            "aaxis": {
             "endlinecolor": "#2a3f5f",
             "gridcolor": "#C8D4E3",
             "linecolor": "#C8D4E3",
             "minorgridcolor": "#C8D4E3",
             "startlinecolor": "#2a3f5f"
            },
            "baxis": {
             "endlinecolor": "#2a3f5f",
             "gridcolor": "#C8D4E3",
             "linecolor": "#C8D4E3",
             "minorgridcolor": "#C8D4E3",
             "startlinecolor": "#2a3f5f"
            },
            "type": "carpet"
           }
          ],
          "choropleth": [
           {
            "colorbar": {
             "outlinewidth": 0,
             "ticks": ""
            },
            "type": "choropleth"
           }
          ],
          "contour": [
           {
            "colorbar": {
             "outlinewidth": 0,
             "ticks": ""
            },
            "colorscale": [
             [
              0,
              "#0d0887"
             ],
             [
              0.1111111111111111,
              "#46039f"
             ],
             [
              0.2222222222222222,
              "#7201a8"
             ],
             [
              0.3333333333333333,
              "#9c179e"
             ],
             [
              0.4444444444444444,
              "#bd3786"
             ],
             [
              0.5555555555555556,
              "#d8576b"
             ],
             [
              0.6666666666666666,
              "#ed7953"
             ],
             [
              0.7777777777777778,
              "#fb9f3a"
             ],
             [
              0.8888888888888888,
              "#fdca26"
             ],
             [
              1,
              "#f0f921"
             ]
            ],
            "type": "contour"
           }
          ],
          "contourcarpet": [
           {
            "colorbar": {
             "outlinewidth": 0,
             "ticks": ""
            },
            "type": "contourcarpet"
           }
          ],
          "heatmap": [
           {
            "colorbar": {
             "outlinewidth": 0,
             "ticks": ""
            },
            "colorscale": [
             [
              0,
              "#0d0887"
             ],
             [
              0.1111111111111111,
              "#46039f"
             ],
             [
              0.2222222222222222,
              "#7201a8"
             ],
             [
              0.3333333333333333,
              "#9c179e"
             ],
             [
              0.4444444444444444,
              "#bd3786"
             ],
             [
              0.5555555555555556,
              "#d8576b"
             ],
             [
              0.6666666666666666,
              "#ed7953"
             ],
             [
              0.7777777777777778,
              "#fb9f3a"
             ],
             [
              0.8888888888888888,
              "#fdca26"
             ],
             [
              1,
              "#f0f921"
             ]
            ],
            "type": "heatmap"
           }
          ],
          "histogram": [
           {
            "marker": {
             "pattern": {
              "fillmode": "overlay",
              "size": 10,
              "solidity": 0.2
             }
            },
            "type": "histogram"
           }
          ],
          "histogram2d": [
           {
            "colorbar": {
             "outlinewidth": 0,
             "ticks": ""
            },
            "colorscale": [
             [
              0,
              "#0d0887"
             ],
             [
              0.1111111111111111,
              "#46039f"
             ],
             [
              0.2222222222222222,
              "#7201a8"
             ],
             [
              0.3333333333333333,
              "#9c179e"
             ],
             [
              0.4444444444444444,
              "#bd3786"
             ],
             [
              0.5555555555555556,
              "#d8576b"
             ],
             [
              0.6666666666666666,
              "#ed7953"
             ],
             [
              0.7777777777777778,
              "#fb9f3a"
             ],
             [
              0.8888888888888888,
              "#fdca26"
             ],
             [
              1,
              "#f0f921"
             ]
            ],
            "type": "histogram2d"
           }
          ],
          "histogram2dcontour": [
           {
            "colorbar": {
             "outlinewidth": 0,
             "ticks": ""
            },
            "colorscale": [
             [
              0,
              "#0d0887"
             ],
             [
              0.1111111111111111,
              "#46039f"
             ],
             [
              0.2222222222222222,
              "#7201a8"
             ],
             [
              0.3333333333333333,
              "#9c179e"
             ],
             [
              0.4444444444444444,
              "#bd3786"
             ],
             [
              0.5555555555555556,
              "#d8576b"
             ],
             [
              0.6666666666666666,
              "#ed7953"
             ],
             [
              0.7777777777777778,
              "#fb9f3a"
             ],
             [
              0.8888888888888888,
              "#fdca26"
             ],
             [
              1,
              "#f0f921"
             ]
            ],
            "type": "histogram2dcontour"
           }
          ],
          "mesh3d": [
           {
            "colorbar": {
             "outlinewidth": 0,
             "ticks": ""
            },
            "type": "mesh3d"
           }
          ],
          "parcoords": [
           {
            "line": {
             "colorbar": {
              "outlinewidth": 0,
              "ticks": ""
             }
            },
            "type": "parcoords"
           }
          ],
          "pie": [
           {
            "automargin": true,
            "type": "pie"
           }
          ],
          "scatter": [
           {
            "fillpattern": {
             "fillmode": "overlay",
             "size": 10,
             "solidity": 0.2
            },
            "type": "scatter"
           }
          ],
          "scatter3d": [
           {
            "line": {
             "colorbar": {
              "outlinewidth": 0,
              "ticks": ""
             }
            },
            "marker": {
             "colorbar": {
              "outlinewidth": 0,
              "ticks": ""
             }
            },
            "type": "scatter3d"
           }
          ],
          "scattercarpet": [
           {
            "marker": {
             "colorbar": {
              "outlinewidth": 0,
              "ticks": ""
             }
            },
            "type": "scattercarpet"
           }
          ],
          "scattergeo": [
           {
            "marker": {
             "colorbar": {
              "outlinewidth": 0,
              "ticks": ""
             }
            },
            "type": "scattergeo"
           }
          ],
          "scattergl": [
           {
            "marker": {
             "colorbar": {
              "outlinewidth": 0,
              "ticks": ""
             }
            },
            "type": "scattergl"
           }
          ],
          "scattermap": [
           {
            "marker": {
             "colorbar": {
              "outlinewidth": 0,
              "ticks": ""
             }
            },
            "type": "scattermap"
           }
          ],
          "scattermapbox": [
           {
            "marker": {
             "colorbar": {
              "outlinewidth": 0,
              "ticks": ""
             }
            },
            "type": "scattermapbox"
           }
          ],
          "scatterpolar": [
           {
            "marker": {
             "colorbar": {
              "outlinewidth": 0,
              "ticks": ""
             }
            },
            "type": "scatterpolar"
           }
          ],
          "scatterpolargl": [
           {
            "marker": {
             "colorbar": {
              "outlinewidth": 0,
              "ticks": ""
             }
            },
            "type": "scatterpolargl"
           }
          ],
          "scatterternary": [
           {
            "marker": {
             "colorbar": {
              "outlinewidth": 0,
              "ticks": ""
             }
            },
            "type": "scatterternary"
           }
          ],
          "surface": [
           {
            "colorbar": {
             "outlinewidth": 0,
             "ticks": ""
            },
            "colorscale": [
             [
              0,
              "#0d0887"
             ],
             [
              0.1111111111111111,
              "#46039f"
             ],
             [
              0.2222222222222222,
              "#7201a8"
             ],
             [
              0.3333333333333333,
              "#9c179e"
             ],
             [
              0.4444444444444444,
              "#bd3786"
             ],
             [
              0.5555555555555556,
              "#d8576b"
             ],
             [
              0.6666666666666666,
              "#ed7953"
             ],
             [
              0.7777777777777778,
              "#fb9f3a"
             ],
             [
              0.8888888888888888,
              "#fdca26"
             ],
             [
              1,
              "#f0f921"
             ]
            ],
            "type": "surface"
           }
          ],
          "table": [
           {
            "cells": {
             "fill": {
              "color": "#EBF0F8"
             },
             "line": {
              "color": "white"
             }
            },
            "header": {
             "fill": {
              "color": "#C8D4E3"
             },
             "line": {
              "color": "white"
             }
            },
            "type": "table"
           }
          ]
         },
         "layout": {
          "annotationdefaults": {
           "arrowcolor": "#2a3f5f",
           "arrowhead": 0,
           "arrowwidth": 1
          },
          "autotypenumbers": "strict",
          "coloraxis": {
           "colorbar": {
            "outlinewidth": 0,
            "ticks": ""
           }
          },
          "colorscale": {
           "diverging": [
            [
             0,
             "#8e0152"
            ],
            [
             0.1,
             "#c51b7d"
            ],
            [
             0.2,
             "#de77ae"
            ],
            [
             0.3,
             "#f1b6da"
            ],
            [
             0.4,
             "#fde0ef"
            ],
            [
             0.5,
             "#f7f7f7"
            ],
            [
             0.6,
             "#e6f5d0"
            ],
            [
             0.7,
             "#b8e186"
            ],
            [
             0.8,
             "#7fbc41"
            ],
            [
             0.9,
             "#4d9221"
            ],
            [
             1,
             "#276419"
            ]
           ],
           "sequential": [
            [
             0,
             "#0d0887"
            ],
            [
             0.1111111111111111,
             "#46039f"
            ],
            [
             0.2222222222222222,
             "#7201a8"
            ],
            [
             0.3333333333333333,
             "#9c179e"
            ],
            [
             0.4444444444444444,
             "#bd3786"
            ],
            [
             0.5555555555555556,
             "#d8576b"
            ],
            [
             0.6666666666666666,
             "#ed7953"
            ],
            [
             0.7777777777777778,
             "#fb9f3a"
            ],
            [
             0.8888888888888888,
             "#fdca26"
            ],
            [
             1,
             "#f0f921"
            ]
           ],
           "sequentialminus": [
            [
             0,
             "#0d0887"
            ],
            [
             0.1111111111111111,
             "#46039f"
            ],
            [
             0.2222222222222222,
             "#7201a8"
            ],
            [
             0.3333333333333333,
             "#9c179e"
            ],
            [
             0.4444444444444444,
             "#bd3786"
            ],
            [
             0.5555555555555556,
             "#d8576b"
            ],
            [
             0.6666666666666666,
             "#ed7953"
            ],
            [
             0.7777777777777778,
             "#fb9f3a"
            ],
            [
             0.8888888888888888,
             "#fdca26"
            ],
            [
             1,
             "#f0f921"
            ]
           ]
          },
          "colorway": [
           "#636efa",
           "#EF553B",
           "#00cc96",
           "#ab63fa",
           "#FFA15A",
           "#19d3f3",
           "#FF6692",
           "#B6E880",
           "#FF97FF",
           "#FECB52"
          ],
          "font": {
           "color": "#2a3f5f"
          },
          "geo": {
           "bgcolor": "white",
           "lakecolor": "white",
           "landcolor": "white",
           "showlakes": true,
           "showland": true,
           "subunitcolor": "#C8D4E3"
          },
          "hoverlabel": {
           "align": "left"
          },
          "hovermode": "closest",
          "mapbox": {
           "style": "light"
          },
          "paper_bgcolor": "white",
          "plot_bgcolor": "white",
          "polar": {
           "angularaxis": {
            "gridcolor": "#EBF0F8",
            "linecolor": "#EBF0F8",
            "ticks": ""
           },
           "bgcolor": "white",
           "radialaxis": {
            "gridcolor": "#EBF0F8",
            "linecolor": "#EBF0F8",
            "ticks": ""
           }
          },
          "scene": {
           "xaxis": {
            "backgroundcolor": "white",
            "gridcolor": "#DFE8F3",
            "gridwidth": 2,
            "linecolor": "#EBF0F8",
            "showbackground": true,
            "ticks": "",
            "zerolinecolor": "#EBF0F8"
           },
           "yaxis": {
            "backgroundcolor": "white",
            "gridcolor": "#DFE8F3",
            "gridwidth": 2,
            "linecolor": "#EBF0F8",
            "showbackground": true,
            "ticks": "",
            "zerolinecolor": "#EBF0F8"
           },
           "zaxis": {
            "backgroundcolor": "white",
            "gridcolor": "#DFE8F3",
            "gridwidth": 2,
            "linecolor": "#EBF0F8",
            "showbackground": true,
            "ticks": "",
            "zerolinecolor": "#EBF0F8"
           }
          },
          "shapedefaults": {
           "line": {
            "color": "#2a3f5f"
           }
          },
          "ternary": {
           "aaxis": {
            "gridcolor": "#DFE8F3",
            "linecolor": "#A2B1C6",
            "ticks": ""
           },
           "baxis": {
            "gridcolor": "#DFE8F3",
            "linecolor": "#A2B1C6",
            "ticks": ""
           },
           "bgcolor": "white",
           "caxis": {
            "gridcolor": "#DFE8F3",
            "linecolor": "#A2B1C6",
            "ticks": ""
           }
          },
          "title": {
           "x": 0.05
          },
          "xaxis": {
           "automargin": true,
           "gridcolor": "#EBF0F8",
           "linecolor": "#EBF0F8",
           "ticks": "",
           "title": {
            "standoff": 15
           },
           "zerolinecolor": "#EBF0F8",
           "zerolinewidth": 2
          },
          "yaxis": {
           "automargin": true,
           "gridcolor": "#EBF0F8",
           "linecolor": "#EBF0F8",
           "ticks": "",
           "title": {
            "standoff": 15
           },
           "zerolinecolor": "#EBF0F8",
           "zerolinewidth": 2
          }
         }
        },
        "title": {
         "text": "<b>Cost Comparison for SINGAPORE-WAREHOUSE Overflow</b>",
         "x": 0.5
        },
        "xaxis": {
         "anchor": "y",
         "categoryarray": [
          "Cost without action",
          "Optimized Cost"
         ],
         "categoryorder": "array",
         "domain": [
          0,
          1
         ],
         "title": {
          "text": "Scenario"
         }
        },
        "yaxis": {
         "anchor": "x",
         "domain": [
          0,
          1
         ],
         "title": {
          "text": "Cost (SGD)"
         }
        }
       }
      }
     },
     "metadata": {},
     "output_type": "display_data"
    },
    {
     "name": "stdout",
     "output_type": "stream",
     "text": [
      "\n",
      "   **Materials to Pack & Transfer (Top 5):**\n",
      "Material Quantity (MT)\n",
      "MAT-0034          5.50\n",
      "MAT-0137          1.38\n",
      "MAT-0230        189.05\n",
      "MAT-0327         22.00\n",
      "MAT-0356         11.00\n",
      "   ...and 76 more items.\n"
     ]
    },
    {
     "data": {
      "application/vnd.plotly.v1+json": {
       "config": {
        "plotlyServerURL": "https://plot.ly"
       },
       "data": [
        {
         "marker": {
          "color": "#4ECDC4"
         },
         "name": "MARINE",
         "showlegend": false,
         "text": "10,304",
         "textposition": "outside",
         "type": "bar",
         "x": [
          "MARINE"
         ],
         "y": [
          10304.235591644427
         ]
        },
        {
         "marker": {
          "color": "#FFD93D"
         },
         "name": "TRUCK",
         "showlegend": false,
         "text": "16,190",
         "textposition": "outside",
         "type": "bar",
         "x": [
          "TRUCK"
         ],
         "y": [
          16189.749030833063
         ]
        },
        {
         "marker": {
          "color": "#FF6B6B"
         },
         "name": "KEEP ALL IN WAREHOUSE",
         "showlegend": false,
         "text": "1,202,089",
         "textposition": "outside",
         "type": "bar",
         "x": [
          "KEEP ALL IN WAREHOUSE"
         ],
         "y": [
          1202088.8671875
         ]
        }
       ],
       "layout": {
        "annotations": [
         {
          "arrowcolor": "green",
          "arrowhead": 2,
          "arrowsize": 1,
          "arrowwidth": 2,
          "ax": 0,
          "ay": -40,
          "font": {
           "color": "green",
           "family": "Arial Black",
           "size": 14
          },
          "showarrow": true,
          "text": "🏆 BEST",
          "x": "MARINE",
          "y": 10304.235591644427
         }
        ],
        "font": {
         "color": "RebeccaPurple",
         "family": "Arial",
         "size": 12
        },
        "height": 450,
        "showlegend": true,
        "template": {
         "data": {
          "bar": [
           {
            "error_x": {
             "color": "#2a3f5f"
            },
            "error_y": {
             "color": "#2a3f5f"
            },
            "marker": {
             "line": {
              "color": "white",
              "width": 0.5
             },
             "pattern": {
              "fillmode": "overlay",
              "size": 10,
              "solidity": 0.2
             }
            },
            "type": "bar"
           }
          ],
          "barpolar": [
           {
            "marker": {
             "line": {
              "color": "white",
              "width": 0.5
             },
             "pattern": {
              "fillmode": "overlay",
              "size": 10,
              "solidity": 0.2
             }
            },
            "type": "barpolar"
           }
          ],
          "carpet": [
           {
            "aaxis": {
             "endlinecolor": "#2a3f5f",
             "gridcolor": "#C8D4E3",
             "linecolor": "#C8D4E3",
             "minorgridcolor": "#C8D4E3",
             "startlinecolor": "#2a3f5f"
            },
            "baxis": {
             "endlinecolor": "#2a3f5f",
             "gridcolor": "#C8D4E3",
             "linecolor": "#C8D4E3",
             "minorgridcolor": "#C8D4E3",
             "startlinecolor": "#2a3f5f"
            },
            "type": "carpet"
           }
          ],
          "choropleth": [
           {
            "colorbar": {
             "outlinewidth": 0,
             "ticks": ""
            },
            "type": "choropleth"
           }
          ],
          "contour": [
           {
            "colorbar": {
             "outlinewidth": 0,
             "ticks": ""
            },
            "colorscale": [
             [
              0,
              "#0d0887"
             ],
             [
              0.1111111111111111,
              "#46039f"
             ],
             [
              0.2222222222222222,
              "#7201a8"
             ],
             [
              0.3333333333333333,
              "#9c179e"
             ],
             [
              0.4444444444444444,
              "#bd3786"
             ],
             [
              0.5555555555555556,
              "#d8576b"
             ],
             [
              0.6666666666666666,
              "#ed7953"
             ],
             [
              0.7777777777777778,
              "#fb9f3a"
             ],
             [
              0.8888888888888888,
              "#fdca26"
             ],
             [
              1,
              "#f0f921"
             ]
            ],
            "type": "contour"
           }
          ],
          "contourcarpet": [
           {
            "colorbar": {
             "outlinewidth": 0,
             "ticks": ""
            },
            "type": "contourcarpet"
           }
          ],
          "heatmap": [
           {
            "colorbar": {
             "outlinewidth": 0,
             "ticks": ""
            },
            "colorscale": [
             [
              0,
              "#0d0887"
             ],
             [
              0.1111111111111111,
              "#46039f"
             ],
             [
              0.2222222222222222,
              "#7201a8"
             ],
             [
              0.3333333333333333,
              "#9c179e"
             ],
             [
              0.4444444444444444,
              "#bd3786"
             ],
             [
              0.5555555555555556,
              "#d8576b"
             ],
             [
              0.6666666666666666,
              "#ed7953"
             ],
             [
              0.7777777777777778,
              "#fb9f3a"
             ],
             [
              0.8888888888888888,
              "#fdca26"
             ],
             [
              1,
              "#f0f921"
             ]
            ],
            "type": "heatmap"
           }
          ],
          "histogram": [
           {
            "marker": {
             "pattern": {
              "fillmode": "overlay",
              "size": 10,
              "solidity": 0.2
             }
            },
            "type": "histogram"
           }
          ],
          "histogram2d": [
           {
            "colorbar": {
             "outlinewidth": 0,
             "ticks": ""
            },
            "colorscale": [
             [
              0,
              "#0d0887"
             ],
             [
              0.1111111111111111,
              "#46039f"
             ],
             [
              0.2222222222222222,
              "#7201a8"
             ],
             [
              0.3333333333333333,
              "#9c179e"
             ],
             [
              0.4444444444444444,
              "#bd3786"
             ],
             [
              0.5555555555555556,
              "#d8576b"
             ],
             [
              0.6666666666666666,
              "#ed7953"
             ],
             [
              0.7777777777777778,
              "#fb9f3a"
             ],
             [
              0.8888888888888888,
              "#fdca26"
             ],
             [
              1,
              "#f0f921"
             ]
            ],
            "type": "histogram2d"
           }
          ],
          "histogram2dcontour": [
           {
            "colorbar": {
             "outlinewidth": 0,
             "ticks": ""
            },
            "colorscale": [
             [
              0,
              "#0d0887"
             ],
             [
              0.1111111111111111,
              "#46039f"
             ],
             [
              0.2222222222222222,
              "#7201a8"
             ],
             [
              0.3333333333333333,
              "#9c179e"
             ],
             [
              0.4444444444444444,
              "#bd3786"
             ],
             [
              0.5555555555555556,
              "#d8576b"
             ],
             [
              0.6666666666666666,
              "#ed7953"
             ],
             [
              0.7777777777777778,
              "#fb9f3a"
             ],
             [
              0.8888888888888888,
              "#fdca26"
             ],
             [
              1,
              "#f0f921"
             ]
            ],
            "type": "histogram2dcontour"
           }
          ],
          "mesh3d": [
           {
            "colorbar": {
             "outlinewidth": 0,
             "ticks": ""
            },
            "type": "mesh3d"
           }
          ],
          "parcoords": [
           {
            "line": {
             "colorbar": {
              "outlinewidth": 0,
              "ticks": ""
             }
            },
            "type": "parcoords"
           }
          ],
          "pie": [
           {
            "automargin": true,
            "type": "pie"
           }
          ],
          "scatter": [
           {
            "fillpattern": {
             "fillmode": "overlay",
             "size": 10,
             "solidity": 0.2
            },
            "type": "scatter"
           }
          ],
          "scatter3d": [
           {
            "line": {
             "colorbar": {
              "outlinewidth": 0,
              "ticks": ""
             }
            },
            "marker": {
             "colorbar": {
              "outlinewidth": 0,
              "ticks": ""
             }
            },
            "type": "scatter3d"
           }
          ],
          "scattercarpet": [
           {
            "marker": {
             "colorbar": {
              "outlinewidth": 0,
              "ticks": ""
             }
            },
            "type": "scattercarpet"
           }
          ],
          "scattergeo": [
           {
            "marker": {
             "colorbar": {
              "outlinewidth": 0,
              "ticks": ""
             }
            },
            "type": "scattergeo"
           }
          ],
          "scattergl": [
           {
            "marker": {
             "colorbar": {
              "outlinewidth": 0,
              "ticks": ""
             }
            },
            "type": "scattergl"
           }
          ],
          "scattermap": [
           {
            "marker": {
             "colorbar": {
              "outlinewidth": 0,
              "ticks": ""
             }
            },
            "type": "scattermap"
           }
          ],
          "scattermapbox": [
           {
            "marker": {
             "colorbar": {
              "outlinewidth": 0,
              "ticks": ""
             }
            },
            "type": "scattermapbox"
           }
          ],
          "scatterpolar": [
           {
            "marker": {
             "colorbar": {
              "outlinewidth": 0,
              "ticks": ""
             }
            },
            "type": "scatterpolar"
           }
          ],
          "scatterpolargl": [
           {
            "marker": {
             "colorbar": {
              "outlinewidth": 0,
              "ticks": ""
             }
            },
            "type": "scatterpolargl"
           }
          ],
          "scatterternary": [
           {
            "marker": {
             "colorbar": {
              "outlinewidth": 0,
              "ticks": ""
             }
            },
            "type": "scatterternary"
           }
          ],
          "surface": [
           {
            "colorbar": {
             "outlinewidth": 0,
             "ticks": ""
            },
            "colorscale": [
             [
              0,
              "#0d0887"
             ],
             [
              0.1111111111111111,
              "#46039f"
             ],
             [
              0.2222222222222222,
              "#7201a8"
             ],
             [
              0.3333333333333333,
              "#9c179e"
             ],
             [
              0.4444444444444444,
              "#bd3786"
             ],
             [
              0.5555555555555556,
              "#d8576b"
             ],
             [
              0.6666666666666666,
              "#ed7953"
             ],
             [
              0.7777777777777778,
              "#fb9f3a"
             ],
             [
              0.8888888888888888,
              "#fdca26"
             ],
             [
              1,
              "#f0f921"
             ]
            ],
            "type": "surface"
           }
          ],
          "table": [
           {
            "cells": {
             "fill": {
              "color": "#EBF0F8"
             },
             "line": {
              "color": "white"
             }
            },
            "header": {
             "fill": {
              "color": "#C8D4E3"
             },
             "line": {
              "color": "white"
             }
            },
            "type": "table"
           }
          ]
         },
         "layout": {
          "annotationdefaults": {
           "arrowcolor": "#2a3f5f",
           "arrowhead": 0,
           "arrowwidth": 1
          },
          "autotypenumbers": "strict",
          "coloraxis": {
           "colorbar": {
            "outlinewidth": 0,
            "ticks": ""
           }
          },
          "colorscale": {
           "diverging": [
            [
             0,
             "#8e0152"
            ],
            [
             0.1,
             "#c51b7d"
            ],
            [
             0.2,
             "#de77ae"
            ],
            [
             0.3,
             "#f1b6da"
            ],
            [
             0.4,
             "#fde0ef"
            ],
            [
             0.5,
             "#f7f7f7"
            ],
            [
             0.6,
             "#e6f5d0"
            ],
            [
             0.7,
             "#b8e186"
            ],
            [
             0.8,
             "#7fbc41"
            ],
            [
             0.9,
             "#4d9221"
            ],
            [
             1,
             "#276419"
            ]
           ],
           "sequential": [
            [
             0,
             "#0d0887"
            ],
            [
             0.1111111111111111,
             "#46039f"
            ],
            [
             0.2222222222222222,
             "#7201a8"
            ],
            [
             0.3333333333333333,
             "#9c179e"
            ],
            [
             0.4444444444444444,
             "#bd3786"
            ],
            [
             0.5555555555555556,
             "#d8576b"
            ],
            [
             0.6666666666666666,
             "#ed7953"
            ],
            [
             0.7777777777777778,
             "#fb9f3a"
            ],
            [
             0.8888888888888888,
             "#fdca26"
            ],
            [
             1,
             "#f0f921"
            ]
           ],
           "sequentialminus": [
            [
             0,
             "#0d0887"
            ],
            [
             0.1111111111111111,
             "#46039f"
            ],
            [
             0.2222222222222222,
             "#7201a8"
            ],
            [
             0.3333333333333333,
             "#9c179e"
            ],
            [
             0.4444444444444444,
             "#bd3786"
            ],
            [
             0.5555555555555556,
             "#d8576b"
            ],
            [
             0.6666666666666666,
             "#ed7953"
            ],
            [
             0.7777777777777778,
             "#fb9f3a"
            ],
            [
             0.8888888888888888,
             "#fdca26"
            ],
            [
             1,
             "#f0f921"
            ]
           ]
          },
          "colorway": [
           "#636efa",
           "#EF553B",
           "#00cc96",
           "#ab63fa",
           "#FFA15A",
           "#19d3f3",
           "#FF6692",
           "#B6E880",
           "#FF97FF",
           "#FECB52"
          ],
          "font": {
           "color": "#2a3f5f"
          },
          "geo": {
           "bgcolor": "white",
           "lakecolor": "white",
           "landcolor": "white",
           "showlakes": true,
           "showland": true,
           "subunitcolor": "#C8D4E3"
          },
          "hoverlabel": {
           "align": "left"
          },
          "hovermode": "closest",
          "mapbox": {
           "style": "light"
          },
          "paper_bgcolor": "white",
          "plot_bgcolor": "white",
          "polar": {
           "angularaxis": {
            "gridcolor": "#EBF0F8",
            "linecolor": "#EBF0F8",
            "ticks": ""
           },
           "bgcolor": "white",
           "radialaxis": {
            "gridcolor": "#EBF0F8",
            "linecolor": "#EBF0F8",
            "ticks": ""
           }
          },
          "scene": {
           "xaxis": {
            "backgroundcolor": "white",
            "gridcolor": "#DFE8F3",
            "gridwidth": 2,
            "linecolor": "#EBF0F8",
            "showbackground": true,
            "ticks": "",
            "zerolinecolor": "#EBF0F8"
           },
           "yaxis": {
            "backgroundcolor": "white",
            "gridcolor": "#DFE8F3",
            "gridwidth": 2,
            "linecolor": "#EBF0F8",
            "showbackground": true,
            "ticks": "",
            "zerolinecolor": "#EBF0F8"
           },
           "zaxis": {
            "backgroundcolor": "white",
            "gridcolor": "#DFE8F3",
            "gridwidth": 2,
            "linecolor": "#EBF0F8",
            "showbackground": true,
            "ticks": "",
            "zerolinecolor": "#EBF0F8"
           }
          },
          "shapedefaults": {
           "line": {
            "color": "#2a3f5f"
           }
          },
          "ternary": {
           "aaxis": {
            "gridcolor": "#DFE8F3",
            "linecolor": "#A2B1C6",
            "ticks": ""
           },
           "baxis": {
            "gridcolor": "#DFE8F3",
            "linecolor": "#A2B1C6",
            "ticks": ""
           },
           "bgcolor": "white",
           "caxis": {
            "gridcolor": "#DFE8F3",
            "linecolor": "#A2B1C6",
            "ticks": ""
           }
          },
          "title": {
           "x": 0.05
          },
          "xaxis": {
           "automargin": true,
           "gridcolor": "#EBF0F8",
           "linecolor": "#EBF0F8",
           "ticks": "",
           "title": {
            "standoff": 15
           },
           "zerolinecolor": "#EBF0F8",
           "zerolinewidth": 2
          },
          "yaxis": {
           "automargin": true,
           "gridcolor": "#EBF0F8",
           "linecolor": "#EBF0F8",
           "ticks": "",
           "title": {
            "standoff": 15
           },
           "zerolinecolor": "#EBF0F8",
           "zerolinewidth": 2
          }
         }
        },
        "title": {
         "text": "<b>💰 Cost Options for SINGAPORE-WAREHOUSE Transfer</b><br><sub>🏆 Best Option: MARINE</sub>",
         "x": 0.5
        },
        "xaxis": {
         "title": {
          "text": "Transport Option"
         }
        },
        "yaxis": {
         "title": {
          "text": "Total Cost (SGD)"
         }
        }
       }
      }
     },
     "metadata": {},
     "output_type": "display_data"
    },
    {
     "name": "stdout",
     "output_type": "stream",
     "text": [
      "\n",
      "---------------------------------------------------------------------------\n",
      " **GRAND TOTAL SAVINGS for 2024-03**: <b>0.00 SGD</b>! \n",
      "---------------------------------------------------------------------------\n",
      "✨ FINANCIAL IMPACT SUMMARY (2024-03) ✨\n",
      "DEBUG: Found 1 plants with successful optimization\n",
      "DEBUG: Creating chart with data: {'Plant': {0: 'SINGAPORE-WAREHOUSE'}, 'Overflow_MT': {0: 2671.30859375}, 'Cost_Without_Action': {0: 1202088.8671875}, 'Cost_With_Optimization': {0: 10304.235591644427}, 'Savings': {0: 1191784.6315958556}, 'Savings_Percentage': {0: 99.14280583799491}}\n",
      "DEBUG: About to show Financial Impact Analysis chart...\n"
     ]
    },
    {
     "data": {
      "application/vnd.plotly.v1+json": {
       "config": {
        "plotlyServerURL": "https://plot.ly"
       },
       "data": [
        {
         "marker": {
          "color": "#FF6B6B"
         },
         "name": "Cost Without Action",
         "text": [
          "1,202,089"
         ],
         "textposition": "outside",
         "type": "bar",
         "x": [
          "SINGAPORE-WAREHOUSE"
         ],
         "xaxis": "x",
         "y": {
          "bdata": "AAAA3qhXMkE=",
          "dtype": "f8"
         },
         "yaxis": "y"
        },
        {
         "marker": {
          "color": "#4ECDC4"
         },
         "name": "Cost With Optimization",
         "text": [
          "10,304"
         ],
         "textposition": "outside",
         "type": "bar",
         "x": [
          "SINGAPORE-WAREHOUSE"
         ],
         "xaxis": "x",
         "y": {
          "bdata": "A/TdJx4gxEA=",
          "dtype": "f8"
         },
         "yaxis": "y"
        },
        {
         "marker": {
          "color": "#45B7D1"
         },
         "name": "Total Savings",
         "showlegend": false,
         "text": [
          "1,191,785<br>(99.1%)"
         ],
         "textposition": "outside",
         "type": "bar",
         "x": [
          "SINGAPORE-WAREHOUSE"
         ],
         "xaxis": "x2",
         "y": {
          "bdata": "GESwoWgvMkE=",
          "dtype": "f8"
         },
         "yaxis": "y2"
        }
       ],
       "layout": {
        "annotations": [
         {
          "font": {
           "size": 16
          },
          "showarrow": false,
          "text": "💰 Cost Comparison by Plant",
          "x": 0.225,
          "xanchor": "center",
          "xref": "paper",
          "y": 1,
          "yanchor": "bottom",
          "yref": "paper"
         },
         {
          "font": {
           "size": 16
          },
          "showarrow": false,
          "text": "📊 Savings Impact",
          "x": 0.775,
          "xanchor": "center",
          "xref": "paper",
          "y": 1,
          "yanchor": "bottom",
          "yref": "paper"
         }
        ],
        "font": {
         "family": "Arial",
         "size": 11
        },
        "height": 500,
        "showlegend": true,
        "template": {
         "data": {
          "bar": [
           {
            "error_x": {
             "color": "#2a3f5f"
            },
            "error_y": {
             "color": "#2a3f5f"
            },
            "marker": {
             "line": {
              "color": "white",
              "width": 0.5
             },
             "pattern": {
              "fillmode": "overlay",
              "size": 10,
              "solidity": 0.2
             }
            },
            "type": "bar"
           }
          ],
          "barpolar": [
           {
            "marker": {
             "line": {
              "color": "white",
              "width": 0.5
             },
             "pattern": {
              "fillmode": "overlay",
              "size": 10,
              "solidity": 0.2
             }
            },
            "type": "barpolar"
           }
          ],
          "carpet": [
           {
            "aaxis": {
             "endlinecolor": "#2a3f5f",
             "gridcolor": "#C8D4E3",
             "linecolor": "#C8D4E3",
             "minorgridcolor": "#C8D4E3",
             "startlinecolor": "#2a3f5f"
            },
            "baxis": {
             "endlinecolor": "#2a3f5f",
             "gridcolor": "#C8D4E3",
             "linecolor": "#C8D4E3",
             "minorgridcolor": "#C8D4E3",
             "startlinecolor": "#2a3f5f"
            },
            "type": "carpet"
           }
          ],
          "choropleth": [
           {
            "colorbar": {
             "outlinewidth": 0,
             "ticks": ""
            },
            "type": "choropleth"
           }
          ],
          "contour": [
           {
            "colorbar": {
             "outlinewidth": 0,
             "ticks": ""
            },
            "colorscale": [
             [
              0,
              "#0d0887"
             ],
             [
              0.1111111111111111,
              "#46039f"
             ],
             [
              0.2222222222222222,
              "#7201a8"
             ],
             [
              0.3333333333333333,
              "#9c179e"
             ],
             [
              0.4444444444444444,
              "#bd3786"
             ],
             [
              0.5555555555555556,
              "#d8576b"
             ],
             [
              0.6666666666666666,
              "#ed7953"
             ],
             [
              0.7777777777777778,
              "#fb9f3a"
             ],
             [
              0.8888888888888888,
              "#fdca26"
             ],
             [
              1,
              "#f0f921"
             ]
            ],
            "type": "contour"
           }
          ],
          "contourcarpet": [
           {
            "colorbar": {
             "outlinewidth": 0,
             "ticks": ""
            },
            "type": "contourcarpet"
           }
          ],
          "heatmap": [
           {
            "colorbar": {
             "outlinewidth": 0,
             "ticks": ""
            },
            "colorscale": [
             [
              0,
              "#0d0887"
             ],
             [
              0.1111111111111111,
              "#46039f"
             ],
             [
              0.2222222222222222,
              "#7201a8"
             ],
             [
              0.3333333333333333,
              "#9c179e"
             ],
             [
              0.4444444444444444,
              "#bd3786"
             ],
             [
              0.5555555555555556,
              "#d8576b"
             ],
             [
              0.6666666666666666,
              "#ed7953"
             ],
             [
              0.7777777777777778,
              "#fb9f3a"
             ],
             [
              0.8888888888888888,
              "#fdca26"
             ],
             [
              1,
              "#f0f921"
             ]
            ],
            "type": "heatmap"
           }
          ],
          "histogram": [
           {
            "marker": {
             "pattern": {
              "fillmode": "overlay",
              "size": 10,
              "solidity": 0.2
             }
            },
            "type": "histogram"
           }
          ],
          "histogram2d": [
           {
            "colorbar": {
             "outlinewidth": 0,
             "ticks": ""
            },
            "colorscale": [
             [
              0,
              "#0d0887"
             ],
             [
              0.1111111111111111,
              "#46039f"
             ],
             [
              0.2222222222222222,
              "#7201a8"
             ],
             [
              0.3333333333333333,
              "#9c179e"
             ],
             [
              0.4444444444444444,
              "#bd3786"
             ],
             [
              0.5555555555555556,
              "#d8576b"
             ],
             [
              0.6666666666666666,
              "#ed7953"
             ],
             [
              0.7777777777777778,
              "#fb9f3a"
             ],
             [
              0.8888888888888888,
              "#fdca26"
             ],
             [
              1,
              "#f0f921"
             ]
            ],
            "type": "histogram2d"
           }
          ],
          "histogram2dcontour": [
           {
            "colorbar": {
             "outlinewidth": 0,
             "ticks": ""
            },
            "colorscale": [
             [
              0,
              "#0d0887"
             ],
             [
              0.1111111111111111,
              "#46039f"
             ],
             [
              0.2222222222222222,
              "#7201a8"
             ],
             [
              0.3333333333333333,
              "#9c179e"
             ],
             [
              0.4444444444444444,
              "#bd3786"
             ],
             [
              0.5555555555555556,
              "#d8576b"
             ],
             [
              0.6666666666666666,
              "#ed7953"
             ],
             [
              0.7777777777777778,
              "#fb9f3a"
             ],
             [
              0.8888888888888888,
              "#fdca26"
             ],
             [
              1,
              "#f0f921"
             ]
            ],
            "type": "histogram2dcontour"
           }
          ],
          "mesh3d": [
           {
            "colorbar": {
             "outlinewidth": 0,
             "ticks": ""
            },
            "type": "mesh3d"
           }
          ],
          "parcoords": [
           {
            "line": {
             "colorbar": {
              "outlinewidth": 0,
              "ticks": ""
             }
            },
            "type": "parcoords"
           }
          ],
          "pie": [
           {
            "automargin": true,
            "type": "pie"
           }
          ],
          "scatter": [
           {
            "fillpattern": {
             "fillmode": "overlay",
             "size": 10,
             "solidity": 0.2
            },
            "type": "scatter"
           }
          ],
          "scatter3d": [
           {
            "line": {
             "colorbar": {
              "outlinewidth": 0,
              "ticks": ""
             }
            },
            "marker": {
             "colorbar": {
              "outlinewidth": 0,
              "ticks": ""
             }
            },
            "type": "scatter3d"
           }
          ],
          "scattercarpet": [
           {
            "marker": {
             "colorbar": {
              "outlinewidth": 0,
              "ticks": ""
             }
            },
            "type": "scattercarpet"
           }
          ],
          "scattergeo": [
           {
            "marker": {
             "colorbar": {
              "outlinewidth": 0,
              "ticks": ""
             }
            },
            "type": "scattergeo"
           }
          ],
          "scattergl": [
           {
            "marker": {
             "colorbar": {
              "outlinewidth": 0,
              "ticks": ""
             }
            },
            "type": "scattergl"
           }
          ],
          "scattermap": [
           {
            "marker": {
             "colorbar": {
              "outlinewidth": 0,
              "ticks": ""
             }
            },
            "type": "scattermap"
           }
          ],
          "scattermapbox": [
           {
            "marker": {
             "colorbar": {
              "outlinewidth": 0,
              "ticks": ""
             }
            },
            "type": "scattermapbox"
           }
          ],
          "scatterpolar": [
           {
            "marker": {
             "colorbar": {
              "outlinewidth": 0,
              "ticks": ""
             }
            },
            "type": "scatterpolar"
           }
          ],
          "scatterpolargl": [
           {
            "marker": {
             "colorbar": {
              "outlinewidth": 0,
              "ticks": ""
             }
            },
            "type": "scatterpolargl"
           }
          ],
          "scatterternary": [
           {
            "marker": {
             "colorbar": {
              "outlinewidth": 0,
              "ticks": ""
             }
            },
            "type": "scatterternary"
           }
          ],
          "surface": [
           {
            "colorbar": {
             "outlinewidth": 0,
             "ticks": ""
            },
            "colorscale": [
             [
              0,
              "#0d0887"
             ],
             [
              0.1111111111111111,
              "#46039f"
             ],
             [
              0.2222222222222222,
              "#7201a8"
             ],
             [
              0.3333333333333333,
              "#9c179e"
             ],
             [
              0.4444444444444444,
              "#bd3786"
             ],
             [
              0.5555555555555556,
              "#d8576b"
             ],
             [
              0.6666666666666666,
              "#ed7953"
             ],
             [
              0.7777777777777778,
              "#fb9f3a"
             ],
             [
              0.8888888888888888,
              "#fdca26"
             ],
             [
              1,
              "#f0f921"
             ]
            ],
            "type": "surface"
           }
          ],
          "table": [
           {
            "cells": {
             "fill": {
              "color": "#EBF0F8"
             },
             "line": {
              "color": "white"
             }
            },
            "header": {
             "fill": {
              "color": "#C8D4E3"
             },
             "line": {
              "color": "white"
             }
            },
            "type": "table"
           }
          ]
         },
         "layout": {
          "annotationdefaults": {
           "arrowcolor": "#2a3f5f",
           "arrowhead": 0,
           "arrowwidth": 1
          },
          "autotypenumbers": "strict",
          "coloraxis": {
           "colorbar": {
            "outlinewidth": 0,
            "ticks": ""
           }
          },
          "colorscale": {
           "diverging": [
            [
             0,
             "#8e0152"
            ],
            [
             0.1,
             "#c51b7d"
            ],
            [
             0.2,
             "#de77ae"
            ],
            [
             0.3,
             "#f1b6da"
            ],
            [
             0.4,
             "#fde0ef"
            ],
            [
             0.5,
             "#f7f7f7"
            ],
            [
             0.6,
             "#e6f5d0"
            ],
            [
             0.7,
             "#b8e186"
            ],
            [
             0.8,
             "#7fbc41"
            ],
            [
             0.9,
             "#4d9221"
            ],
            [
             1,
             "#276419"
            ]
           ],
           "sequential": [
            [
             0,
             "#0d0887"
            ],
            [
             0.1111111111111111,
             "#46039f"
            ],
            [
             0.2222222222222222,
             "#7201a8"
            ],
            [
             0.3333333333333333,
             "#9c179e"
            ],
            [
             0.4444444444444444,
             "#bd3786"
            ],
            [
             0.5555555555555556,
             "#d8576b"
            ],
            [
             0.6666666666666666,
             "#ed7953"
            ],
            [
             0.7777777777777778,
             "#fb9f3a"
            ],
            [
             0.8888888888888888,
             "#fdca26"
            ],
            [
             1,
             "#f0f921"
            ]
           ],
           "sequentialminus": [
            [
             0,
             "#0d0887"
            ],
            [
             0.1111111111111111,
             "#46039f"
            ],
            [
             0.2222222222222222,
             "#7201a8"
            ],
            [
             0.3333333333333333,
             "#9c179e"
            ],
            [
             0.4444444444444444,
             "#bd3786"
            ],
            [
             0.5555555555555556,
             "#d8576b"
            ],
            [
             0.6666666666666666,
             "#ed7953"
            ],
            [
             0.7777777777777778,
             "#fb9f3a"
            ],
            [
             0.8888888888888888,
             "#fdca26"
            ],
            [
             1,
             "#f0f921"
            ]
           ]
          },
          "colorway": [
           "#636efa",
           "#EF553B",
           "#00cc96",
           "#ab63fa",
           "#FFA15A",
           "#19d3f3",
           "#FF6692",
           "#B6E880",
           "#FF97FF",
           "#FECB52"
          ],
          "font": {
           "color": "#2a3f5f"
          },
          "geo": {
           "bgcolor": "white",
           "lakecolor": "white",
           "landcolor": "white",
           "showlakes": true,
           "showland": true,
           "subunitcolor": "#C8D4E3"
          },
          "hoverlabel": {
           "align": "left"
          },
          "hovermode": "closest",
          "mapbox": {
           "style": "light"
          },
          "paper_bgcolor": "white",
          "plot_bgcolor": "white",
          "polar": {
           "angularaxis": {
            "gridcolor": "#EBF0F8",
            "linecolor": "#EBF0F8",
            "ticks": ""
           },
           "bgcolor": "white",
           "radialaxis": {
            "gridcolor": "#EBF0F8",
            "linecolor": "#EBF0F8",
            "ticks": ""
           }
          },
          "scene": {
           "xaxis": {
            "backgroundcolor": "white",
            "gridcolor": "#DFE8F3",
            "gridwidth": 2,
            "linecolor": "#EBF0F8",
            "showbackground": true,
            "ticks": "",
            "zerolinecolor": "#EBF0F8"
           },
           "yaxis": {
            "backgroundcolor": "white",
            "gridcolor": "#DFE8F3",
            "gridwidth": 2,
            "linecolor": "#EBF0F8",
            "showbackground": true,
            "ticks": "",
            "zerolinecolor": "#EBF0F8"
           },
           "zaxis": {
            "backgroundcolor": "white",
            "gridcolor": "#DFE8F3",
            "gridwidth": 2,
            "linecolor": "#EBF0F8",
            "showbackground": true,
            "ticks": "",
            "zerolinecolor": "#EBF0F8"
           }
          },
          "shapedefaults": {
           "line": {
            "color": "#2a3f5f"
           }
          },
          "ternary": {
           "aaxis": {
            "gridcolor": "#DFE8F3",
            "linecolor": "#A2B1C6",
            "ticks": ""
           },
           "baxis": {
            "gridcolor": "#DFE8F3",
            "linecolor": "#A2B1C6",
            "ticks": ""
           },
           "bgcolor": "white",
           "caxis": {
            "gridcolor": "#DFE8F3",
            "linecolor": "#A2B1C6",
            "ticks": ""
           }
          },
          "title": {
           "x": 0.05
          },
          "xaxis": {
           "automargin": true,
           "gridcolor": "#EBF0F8",
           "linecolor": "#EBF0F8",
           "ticks": "",
           "title": {
            "standoff": 15
           },
           "zerolinecolor": "#EBF0F8",
           "zerolinewidth": 2
          },
          "yaxis": {
           "automargin": true,
           "gridcolor": "#EBF0F8",
           "linecolor": "#EBF0F8",
           "ticks": "",
           "title": {
            "standoff": 15
           },
           "zerolinecolor": "#EBF0F8",
           "zerolinewidth": 2
          }
         }
        },
        "title": {
         "text": "<b>Financial Impact Analysis - 2024-03</b>",
         "x": 0.5
        },
        "xaxis": {
         "anchor": "y",
         "domain": [
          0,
          0.45
         ],
         "title": {
          "text": "Plant"
         }
        },
        "xaxis2": {
         "anchor": "y2",
         "domain": [
          0.55,
          1
         ],
         "title": {
          "text": "Plant"
         }
        },
        "yaxis": {
         "anchor": "x",
         "domain": [
          0,
          1
         ],
         "title": {
          "text": "Cost (SGD)"
         }
        },
        "yaxis2": {
         "anchor": "x2",
         "domain": [
          0,
          1
         ],
         "title": {
          "text": "Savings (SGD)"
         }
        }
       }
      }
     },
     "metadata": {},
     "output_type": "display_data"
    },
    {
     "name": "stdout",
     "output_type": "stream",
     "text": [
      "DEBUG: Chart show() command executed\n"
     ]
    }
   ],
   "source": [
    "import pandas as pd\n",
    "import plotly.graph_objects as go\n",
    "from plotly.subplots import make_subplots\n",
    "import plotly.express as px\n",
    "import numpy as np\n",
    "\n",
    "# --- สรุปผลสำหรับเดือนเป้าหมาย ---\n",
    "def display_executive_summary_dashboard_v4_fixed(result, target_year, target_month):\n",
    "    print(f\"✨ EXECUTIVE SUMMARY: INVENTORY OPTIMIZATION DASHBOARD ({target_year}-{target_month:02d}) ✨\")\n",
    "    \n",
    "\n",
    "    # Convert overflow_analysis to DataFrame if it exists\n",
    "    overflow_analysis_df = pd.DataFrame(result.get('overflow_analysis', []))\n",
    "\n",
    "    if overflow_analysis_df.empty:\n",
    "        print(f\"\\n✅ Woohoo! No significant overflow or critical risk detected for {target_year}-{target_month:02d}!\")\n",
    "        print(\"   Current inventory levels are super cozy within capacity. Great job! 🥳\")\n",
    "        return\n",
    "\n",
    "    # --- 1. Overview: Utilization & Risk Level ---\n",
    "    # Sort by Utilization Rate for better visualization\n",
    "    overflow_analysis_df = overflow_analysis_df.sort_values('Utilization_Rate', ascending=False)\n",
    "\n",
    "    # Count risk levels\n",
    "    risk_counts = overflow_analysis_df['Risk_Level'].value_counts()\n",
    "    num_overflow = risk_counts.get('OVERFLOW', 0)\n",
    "    num_critical = risk_counts.get('CRITICAL', 0)\n",
    "    num_high = risk_counts.get('HIGH', 0)\n",
    "\n",
    "    print(f\"\\nSummary for {target_year}-{target_month:02d}:\")\n",
    "    print(f\"   Total Warehouses Analyzed: {len(overflow_analysis_df)}\")\n",
    "    if num_overflow > 0:\n",
    "        print(f\"   🚨 Oh no! {num_overflow} warehouse(s) are projected to OVERFLOW!\")\n",
    "    if num_critical > 0:\n",
    "        print(f\"   🟠 Heads up! {num_critical} warehouse(s) are at CRITICAL risk!\")\n",
    "    if num_high > 0:\n",
    "        print(f\"   🟡 Watch out! {num_high} warehouse(s) are at HIGH risk!\")\n",
    "    if num_overflow == 0 and num_critical == 0 and num_high == 0:\n",
    "        print(\"   🎉 All warehouses are looking good with NORMAL or LOW risk levels. Keep it up!\")\n",
    "\n",
    "\n",
    "    # Custom colors for risk levels (more vibrant/cute)\n",
    "    cute_colors = {\n",
    "        'OVERFLOW': '#FF6B6B',   # Soft Red\n",
    "        'CRITICAL': '#FFD166',   # Soft Orange/Yellow\n",
    "        'HIGH': '#FFE699',     # Lighter Yellow\n",
    "        'NORMAL': '#8AFF8A',     # Soft Green\n",
    "        'LOW': '#6B90FF',      # Soft Blue\n",
    "        'Insufficient Data': '#CCCCCC' # Gray\n",
    "    }\n",
    "\n",
    "    fig1 = px.bar(\n",
    "        overflow_analysis_df,\n",
    "        x=\"Plant\",\n",
    "        y=\"Utilization_Rate\",\n",
    "        color=\"Risk_Level\",\n",
    "        title=f\"<b>Warehouse Utilization & Risk ({target_year}-{target_month:02d})</b>\",\n",
    "        labels={\n",
    "            \"Utilization_Rate\": \"Utilization Rate (%)\",\n",
    "            \"Plant\": \"Warehouse\"\n",
    "        },\n",
    "        template=\"plotly_white\",\n",
    "        height=450,\n",
    "        color_discrete_map=cute_colors,\n",
    "        text_auto=True # Automatically show text on bars\n",
    "    )\n",
    "    fig1.update_yaxes(tickformat=\".1%\", range=[0, 1.2]) # Set Y-axis range from 0 to 120%\n",
    "    fig1.add_shape( # Add a line for 100% capacity\n",
    "        type=\"line\",\n",
    "        x0=-0.5, y0=1.0, x1=len(overflow_analysis_df)-0.5, y1=1.0,\n",
    "        line=dict(color=\"#FF0000\", width=2, dash=\"dashdot\"), # More prominent red dashed line\n",
    "        name=\"100% Capacity\"\n",
    "    )\n",
    "    fig1.update_layout(showlegend=True, title_x=0.5,\n",
    "                       font=dict(family=\"Arial\", size=12, color=\"RebeccaPurple\"), # Cute font\n",
    "                       hovermode=\"x unified\" # Better hover experience\n",
    "                      )\n",
    "    fig1.show()\n",
    "\n",
    "    # --- 2. Actionable Insights: Overflow & Cost Savings ---\n",
    "    optimization_results = result.get('optimization_results', [])\n",
    "    \n",
    "    total_cost_saving_all_plants = 0\n",
    "    overflow_plants_found = False\n",
    "\n",
    "    if optimization_results:\n",
    "        \n",
    "        print(f\"✨ OPTIMIZATION MAGIC: Cost Savings & Transfer Plans ({target_year}-{target_month:02d}) ✨\")\n",
    "        \n",
    "\n",
    "        for opt_plant_data in optimization_results:\n",
    "            plant_name = opt_plant_data['plant']\n",
    "            opt_res = opt_plant_data['optimization_result']\n",
    "\n",
    "            if opt_res.get('status') == 'success':\n",
    "                overflow_plants_found = True\n",
    "                overflow_mt = opt_res.get('overflow_mt', 0)\n",
    "                best_mode = opt_res.get('best_mode', 'N/A').upper()\n",
    "                transferable_mt = opt_res.get('transferable_mt', 0)\n",
    "                target_plant = opt_res.get('target_plant', 'N/A')\n",
    "                total_optimized_cost = opt_res.get('total_optimized_cost', 0)\n",
    "                cost_saving = opt_res.get('cost_saving', 0)\n",
    "                cost_if_no_transfer = cost_saving + total_optimized_cost\n",
    "                # total_cost_saving_all_plants += cost_saving  # Already calculated above\n",
    "\n",
    "                print(f\"\\n### 🏠 {plant_name.upper()} - Overflow Solution!\")\n",
    "                print(f\"   - **Overflow Detected**: {overflow_mt:,.2f} MT 📦\")\n",
    "                print(f\"   - **Recommended Plan**: Transfer {transferable_mt:,.2f} MT to {target_plant} via {best_mode}!\")\n",
    "                print(f\"   - **Original Cost (without action)**: {cost_if_no_transfer:,.2f} SGD 💔\")\n",
    "                print(f\"   - **Optimized Cost (with transfer)**: {total_optimized_cost:,.2f} SGD ✅\")\n",
    "                print(f\"   - **🎉 YOU SAVE**: <b>{cost_saving:,.2f} SGD</b>! 🎉\")\n",
    "\n",
    "\n",
    "\n",
    "\n",
    "                # Cost Comparison Bar Chart (Optimized vs. No Action) with Total Savings\n",
    "                cost_data_for_plot = pd.DataFrame({\n",
    "                    'Cost Type': ['Cost without action', 'Optimized Cost'],\n",
    "                    'Amount': [cost_if_no_transfer, total_optimized_cost]\n",
    "                })\n",
    "\n",
    "                fig_cost_comp = px.bar(\n",
    "                    cost_data_for_plot,\n",
    "                    x='Cost Type',\n",
    "                    y='Amount',\n",
    "                    title=f\"<b>Cost Comparison for {plant_name.upper()} Overflow</b>\",\n",
    "                    labels={'Amount': 'Cost (SGD)', 'Cost Type': 'Scenario'},\n",
    "                    template=\"plotly_white\",\n",
    "                    height=400,\n",
    "                    color='Cost Type', # Differentiate bars by type\n",
    "                    color_discrete_map={\n",
    "                        'Cost without action': '#FF9999', # Light Red/Pink\n",
    "                        'Optimized Cost': '#99FF99'     # Light Green\n",
    "                    },\n",
    "                    text_auto=True # Show text on bars\n",
    "                )\n",
    "                fig_cost_comp.update_yaxes(title_text=\"Cost (SGD)\")\n",
    "                fig_cost_comp.update_layout(title_x=0.5, font=dict(family=\"Arial\", size=12, color=\"RebeccaPurple\"))\n",
    "                fig_cost_comp.show()\n",
    "\n",
    "\n",
    "                # Detailed Material Transfer Table\n",
    "                materials_to_transfer = opt_res.get('materials_to_transfer', [])\n",
    "                if materials_to_transfer:\n",
    "                    mat_df = pd.DataFrame(materials_to_transfer)\n",
    "                    mat_df.rename(columns={'MATERIAL_NAME': 'Material', 'TRANSFER_QTY_MT': 'Quantity (MT)'}, inplace=True)\n",
    "                    mat_df['Quantity (MT)'] = mat_df['Quantity (MT)'].map('{:,.2f}'.format)\n",
    "                    print(\"\\n   **Materials to Pack & Transfer (Top 5):**\")\n",
    "                    print(mat_df.head(5).to_string(index=False)) # Show top 5 for brevity\n",
    "                    if len(mat_df) > 5:\n",
    "                        print(f\"   ...and {len(mat_df) - 5} more items.\")\n",
    "                else:\n",
    "                    print(\"\\n   *No specific materials identified for transfer based on current criteria.*\")\n",
    "\n",
    "                # Enhanced Cost Comparison Chart with 3 options: MARINE, TRUCK, and Keep All in Warehouse\n",
    "                all_modes_comparison = opt_res.get('all_modes_comparison', {})\n",
    "                \n",
    "                # Prepare data for 3-way comparison\n",
    "                modes_data = []\n",
    "                \n",
    "                # Add transport options\n",
    "                for mode, res in all_modes_comparison.items():\n",
    "                    modes_data.append({\n",
    "                        'Mode': mode.upper(), \n",
    "                        'Total_Cost': res.get('total_optimized_cost', float('inf')),\n",
    "                        'Type': 'Transport'\n",
    "                    })\n",
    "                \n",
    "                # Add \"Keep All in Warehouse\" option\n",
    "                modes_data.append({\n",
    "                    'Mode': 'KEEP ALL IN WAREHOUSE',\n",
    "                    'Total_Cost': cost_if_no_transfer,\n",
    "                    'Type': 'No Transfer'\n",
    "                })\n",
    "                \n",
    "                if len(modes_data) > 1:\n",
    "                    modes_df = pd.DataFrame(modes_data).sort_values('Total_Cost')\n",
    "\n",
    "                    # Enhanced color scheme\n",
    "                    color_map = {\n",
    "                        'MARINE': '#4ECDC4',           # Teal\n",
    "                        'TRUCK': '#FFD93D',            # Gold\n",
    "                        'KEEP ALL IN WAREHOUSE': '#FF6B6B'  # Red\n",
    "                    }\n",
    "\n",
    "                    fig_costs = go.Figure()\n",
    "                    \n",
    "                    for _, row in modes_df.iterrows():\n",
    "                        fig_costs.add_trace(\n",
    "                            go.Bar(\n",
    "                                x=[row['Mode']],\n",
    "                                y=[row['Total_Cost']],\n",
    "                                name=row['Mode'],\n",
    "                                marker_color=color_map.get(row['Mode'], '#95A5A6'),\n",
    "                                text=f\"{row['Total_Cost']:,.0f}\",\n",
    "                                textposition='outside',\n",
    "                                showlegend=False\n",
    "                            )\n",
    "                        )\n",
    "                    \n",
    "                    # Highlight the best option\n",
    "                    best_option_idx = modes_df['Total_Cost'].idxmin()\n",
    "                    best_option = modes_df.loc[best_option_idx, 'Mode']\n",
    "                    \n",
    "                    fig_costs.update_layout(\n",
    "                        title=f\"<b>💰 Cost Options for {plant_name.upper()} Transfer</b><br><sub>🏆 Best Option: {best_option}</sub>\",\n",
    "                        xaxis_title=\"Transport Option\",\n",
    "                        yaxis_title=\"Total Cost (SGD)\",\n",
    "                        template=\"plotly_white\",\n",
    "                        height=450,\n",
    "                        title_x=0.5,\n",
    "                        font=dict(family=\"Arial\", size=12, color=\"RebeccaPurple\"),\n",
    "                        showlegend=True\n",
    "                    )\n",
    "                    \n",
    "                    # Add annotation for best option\n",
    "                    fig_costs.add_annotation(\n",
    "                        x=best_option,\n",
    "                        y=modes_df.loc[best_option_idx, 'Total_Cost'],\n",
    "                        text=\"🏆 BEST\",\n",
    "                        showarrow=True,\n",
    "                        arrowhead=2,\n",
    "                        arrowcolor=\"green\",\n",
    "                        arrowwidth=2,\n",
    "                        arrowsize=1,\n",
    "                        ax=0,\n",
    "                        ay=-40,\n",
    "                        font=dict(color=\"green\", size=14, family=\"Arial Black\")\n",
    "                    )\n",
    "                    \n",
    "                    fig_costs.show()\n",
    "\n",
    "            else:\n",
    "                print(f\"\\n### 💔 {plant_name.upper()}: Optimization Encountered a Snag!\")\n",
    "                print(f\"   - Reason: {opt_res.get('message', 'Unknown error.')} Please check input data. 🐛\")\n",
    "        \n",
    "        # Grand Total Cost Saving (Text Summary Only)\n",
    "        if overflow_plants_found:\n",
    "            # Add Total Savings to the last Cost Comparison chart\n",
    "            # Find the last plant data to add total savings annotation\n",
    "            last_plant_data = optimization_results[-1]\n",
    "            last_plant_name = last_plant_data['plant']\n",
    "            last_opt_res = last_plant_data['optimization_result']\n",
    "            \n",
    "            if last_opt_res.get('status') == 'success':\n",
    "                # Get the last cost comparison figure and add total savings annotation\n",
    "                # This will be added as an annotation to the last cost comparison chart\n",
    "                pass  # The annotation will be added in the cost comparison section above\n",
    "            \n",
    "            print(f\"\\n\" + \"---\"*25)\n",
    "            print(f\" **GRAND TOTAL SAVINGS for {target_year}-{target_month:02d}**: <b>{total_cost_saving_all_plants:,.2f} SGD</b>! \")\n",
    "            print(f\"---\"*25)\n",
    "    else:\n",
    "        print(f\"\\n--- No active overflow detected that requires transfer optimization for {target_year}-{target_month:02d}. 😊 ---\")\n",
    "\n",
    "    # ALWAYS CREATE FINANCIAL IMPACT ANALYSIS IF THERE ARE OPTIMIZATION RESULTS\n",
    "    if optimization_results:\n",
    "        \n",
    "        print(f\"✨ FINANCIAL IMPACT SUMMARY ({target_year}-{target_month:02d}) ✨\")\n",
    "        \n",
    "        \n",
    "        # Collect all plant data for summary visualization\n",
    "        plants_data = []\n",
    "        \n",
    "        for opt_plant_data in optimization_results:\n",
    "            plant_name = opt_plant_data['plant']\n",
    "            opt_res = opt_plant_data['optimization_result']\n",
    "            \n",
    "            if opt_res.get('status') == 'success':\n",
    "                overflow_mt = opt_res.get('overflow_mt', 0)\n",
    "                cost_saving = opt_res.get('cost_saving', 0)\n",
    "                total_optimized_cost = opt_res.get('total_optimized_cost', 0)\n",
    "                cost_without_action = cost_saving + total_optimized_cost\n",
    "                \n",
    "                plants_data.append({\n",
    "                    'Plant': plant_name,\n",
    "                    'Overflow_MT': overflow_mt,\n",
    "                    'Cost_Without_Action': cost_without_action,\n",
    "                    'Cost_With_Optimization': total_optimized_cost,\n",
    "                    'Savings': cost_saving,\n",
    "                    'Savings_Percentage': (cost_saving / cost_without_action * 100) if cost_without_action > 0 else 0\n",
    "                })\n",
    "\n",
    "        print(f\"DEBUG: Found {len(plants_data)} plants with successful optimization\")\n",
    "        \n",
    "        if plants_data:\n",
    "            plants_df = pd.DataFrame(plants_data)\n",
    "            print(f\"DEBUG: Creating chart with data: {plants_df.to_dict()}\")\n",
    "            \n",
    "            # Cost comparison chart\n",
    "            fig_summary = make_subplots(\n",
    "                rows=1, cols=2,\n",
    "                subplot_titles=('💰 Cost Comparison by Plant', '📊 Savings Impact'),\n",
    "                specs=[[{\"type\": \"bar\"}, {\"type\": \"bar\"}]]\n",
    "            )\n",
    "            \n",
    "            # Cost comparison\n",
    "            fig_summary.add_trace(\n",
    "                go.Bar(\n",
    "                    x=plants_df['Plant'],\n",
    "                    y=plants_df['Cost_Without_Action'],\n",
    "                    name='Cost Without Action',\n",
    "                    marker_color='#FF6B6B',\n",
    "                    text=[f\"{cost:,.0f}\" for cost in plants_df['Cost_Without_Action']],\n",
    "                    textposition='outside'\n",
    "                ),\n",
    "                row=1, col=1\n",
    "            )\n",
    "            \n",
    "            fig_summary.add_trace(\n",
    "                go.Bar(\n",
    "                    x=plants_df['Plant'],\n",
    "                    y=plants_df['Cost_With_Optimization'],\n",
    "                    name='Cost With Optimization',\n",
    "                    marker_color='#4ECDC4',\n",
    "                    text=[f\"{cost:,.0f}\" for cost in plants_df['Cost_With_Optimization']],\n",
    "                    textposition='outside'\n",
    "                ),\n",
    "                row=1, col=1\n",
    "            )\n",
    "            \n",
    "            # Savings impact\n",
    "            fig_summary.add_trace(\n",
    "                go.Bar(\n",
    "                    x=plants_df['Plant'],\n",
    "                    y=plants_df['Savings'],\n",
    "                    name='Total Savings',\n",
    "                    marker_color='#45B7D1',\n",
    "                    text=[f\"{saving:,.0f}<br>({pct:.1f}%)\" for saving, pct in \n",
    "                          zip(plants_df['Savings'], plants_df['Savings_Percentage'])],\n",
    "                    textposition='outside',\n",
    "                    showlegend=False\n",
    "                ),\n",
    "                row=1, col=2\n",
    "            )\n",
    "            \n",
    "            fig_summary.update_layout(\n",
    "                title=f\"<b>Financial Impact Analysis - {target_year}-{target_month:02d}</b>\",\n",
    "                title_x=0.5,\n",
    "                height=500,\n",
    "                showlegend=True,\n",
    "                font=dict(family=\"Arial\", size=11),\n",
    "                template=\"plotly_white\"\n",
    "            )\n",
    "            \n",
    "            fig_summary.update_yaxes(title_text=\"Cost (SGD)\", row=1, col=1)\n",
    "            fig_summary.update_yaxes(title_text=\"Savings (SGD)\", row=1, col=2)\n",
    "            fig_summary.update_xaxes(title_text=\"Plant\", row=1, col=1)\n",
    "            fig_summary.update_xaxes(title_text=\"Plant\", row=1, col=2)\n",
    "            \n",
    "            print(\"DEBUG: About to show Financial Impact Analysis chart...\")\n",
    "            fig_summary.show()\n",
    "            print(\"DEBUG: Chart show() command executed\")\n",
    "        else:\n",
    "            print(\"DEBUG: No plants_data found, chart will not be created\")\n",
    "\n",
    "# --- RUN THE DASHBOARD ---\n",
    "# Assuming 'result' variable is available from previous execution\n",
    "# (e.g., from result = run_monthly_optimization_with_all_scenarios(2024, 12, show_details=False))\n",
    "\n",
    "# Call the updated dashboard function\n",
    "display_executive_summary_dashboard_v4_fixed(result, 2024, 3)"
   ]
  },
  {
   "cell_type": "markdown",
   "id": "200e8138",
   "metadata": {},
   "source": [
    "**visualize compare**"
   ]
  },
  {
   "cell_type": "code",
   "execution_count": 81,
   "id": "3055c850",
   "metadata": {},
   "outputs": [
    {
     "data": {
      "image/png": "[encoded data removed]",
      "text/plain": [
       "<Figure size 1500x700 with 1 Axes>"
      ]
     },
     "metadata": {},
     "output_type": "display_data"
    },
    {
     "data": {
      "image/png": "[encoded data removed]",
      "text/plain": [
       "<Figure size 1500x700 with 1 Axes>"
      ]
     },
     "metadata": {},
     "output_type": "display_data"
    }
   ],
   "source": [
    "import matplotlib.pyplot as plt\n",
    "import seaborn as sns\n",
    "import pandas as pd\n",
    "import numpy as np\n",
    "\n",
    "# ดึง df_model ออกมาจากตัวแปร result ที่ได้จากเซลล์ก่อนหน้า\n",
    "df_model = result['model_df']\n",
    "\n",
    "# --- เพิ่มส่วนนี้เพื่อกรองข้อมูลเฉพาะปี 2024 ---\n",
    "df_2024 = df_model[df_model['YEAR_MONTH'].dt.year == 2024].copy()\n",
    "\n",
    "\n",
    "# เพิ่มคอลัมน์ 'MONTH' และ 'YEAR_MONTH_STR' ใน DataFrame ที่กรองแล้ว\n",
    "df_2024['MONTH'] = df_2024['YEAR_MONTH'].dt.month\n",
    "df_2024['YEAR_MONTH_STR'] = df_2024['YEAR_MONTH'].astype(str)\n",
    "\n",
    "\n",
    "# วนลูปเพื่อพล็อตแต่ละ Plant ในกราฟที่แยกกัน โดยใช้ข้อมูล df_2024\n",
    "for plant in df_2024['PLANT_NAME'].unique():\n",
    "    plt.style.use('seaborn-v0_8-whitegrid')\n",
    "    plt.figure(figsize=(15, 7))\n",
    "    \n",
    "    plant_data = df_2024[df_2024['PLANT_NAME'] == plant].sort_values('YEAR_MONTH')\n",
    "    \n",
    "    # สร้างคอลัมน์ CAPACITY_MT\n",
    "    if plant == 'SINGAPORE-WAREHOUSE':\n",
    "        plant_data['CAPACITY_MT'] = np.where(plant_data['MONTH'] == 12, 48000, 53500)\n",
    "    elif plant == 'CHINA-WAREHOUSE':\n",
    "        plant_data['CAPACITY_MT'] = np.where(plant_data['MONTH'] == 1, 58000, 70000)\n",
    "    \n",
    "    \n",
    "    # พล็อตกราฟเส้น\n",
    "    sns.lineplot(data=plant_data, x='YEAR_MONTH_STR', y='UNRESTRICTED_ACTUAL_MT', marker='o', linestyle='-', label='Actual Inventory')\n",
    "    sns.lineplot(data=plant_data, x='YEAR_MONTH_STR', y='EXPECTED_INVENTORY', marker='x', linestyle='--', label='Expected Inventory (XGBoost Model)')\n",
    "    \n",
    "    # --- ✨ บรรทัดที่เพิ่มเข้ามาใหม่ ---\n",
    "    sns.lineplot(data=plant_data, x='YEAR_MONTH_STR', y='PREDICTED_INVENTORY_MT', marker='s', linestyle='-.', label='Predicted Inventory (Forecast File)')\n",
    "    # ---------------------------------\n",
    "    \n",
    "    sns.lineplot(data=plant_data, x='YEAR_MONTH_STR', y='CAPACITY_MT', color='red', linestyle=':', linewidth=2.5, label='Capacity')\n",
    "    \n",
    "    # ตกแต่งกราฟ\n",
    "    plt.title(f'Inventory Comparison vs. Capacity (Year 2024): {plant}', fontsize=16)\n",
    "    plt.ylabel('Inventory (MT)')\n",
    "    plt.xlabel('Year-Month')\n",
    "    plt.xticks(rotation=45)\n",
    "    plt.legend()\n",
    "    plt.grid(True, which='both', linestyle='--', linewidth=0.5)\n",
    "    plt.tight_layout()\n",
    "    plt.show()"
   ]
  },
  {
   "cell_type": "markdown",
   "id": "00547909",
   "metadata": {},
   "source": [
    "**correalation feature  and target**"
   ]
  },
  {
   "cell_type": "code",
   "execution_count": 82,
   "id": "a14a04f5",
   "metadata": {},
   "outputs": [
    {
     "name": "stderr",
     "output_type": "stream",
     "text": [
      "C:\\Users\\ppich\\AppData\\Local\\Temp\\ipykernel_16724\\745141184.py:235: FutureWarning:\n",
      "\n",
      "\n",
      "\n",
      "Passing `palette` without assigning `hue` is deprecated and will be removed in v0.14.0. Assign the `y` variable to `hue` and set `legend=False` for the same effect.\n",
      "\n",
      "\n"
     ]
    },
    {
     "data": {
      "image/png": "[encoded data removed]",
      "text/plain": [
       "<Figure size 1200x1000 with 1 Axes>"
      ]
     },
     "metadata": {},
     "output_type": "display_data"
    }
   ],
   "source": [
    "import pandas as pd\n",
    "import matplotlib.pyplot as plt\n",
    "import seaborn as sns\n",
    "import numpy as np\n",
    "import os \n",
    "\n",
    "\n",
    "file_path_inbound = os.path.abspath('../data_cleaned/Cleaned_Inbound_sorted.xlsx')\n",
    "file_path_inventory = os.path.abspath('../data_cleaned/Cleaned_Inventory_sorted.xlsx')\n",
    "file_path_materialmaster = os.path.abspath('../data_cleaned/Cleaned_material.xlsx')\n",
    "file_path_outbound = os.path.abspath('../data_cleaned/Cleaned_outbound_sorted.xlsx')\n",
    "\n",
    "inbound = pd.read_excel(file_path_inbound)\n",
    "inventory = pd.read_excel(file_path_inventory)\n",
    "materialmaster = pd.read_excel(file_path_materialmaster)\n",
    "outbound = pd.read_excel(file_path_outbound)\n",
    "operationcost = pd.read_excel('../data_cleaned/Cleaned_OperationCost.xlsx')\n",
    "forecast =  pd.read_excel('../data_cleaned/forecast_1.xlsx')\n",
    "\n",
    "\n",
    "def normalize(name):\n",
    "    \"\"\"Normalize plant names for consistent matching\"\"\"\n",
    "    return name.lower().replace('-', ' ').strip()\n",
    "\n",
    "\n",
    "capacity_dict = {\n",
    "    ('SINGAPORE-WAREHOUSE', 1): 53500, ('SINGAPORE-WAREHOUSE', 2): 53500,\n",
    "    ('SINGAPORE-WAREHOUSE', 3): 53500, ('SINGAPORE-WAREHOUSE', 4): 53500,\n",
    "    ('SINGAPORE-WAREHOUSE', 5): 53500, ('SINGAPORE-WAREHOUSE', 6): 53500,\n",
    "    ('SINGAPORE-WAREHOUSE', 7): 53500, ('SINGAPORE-WAREHOUSE', 8): 53500,\n",
    "    ('SINGAPORE-WAREHOUSE', 9): 53500, ('SINGAPORE-WAREHOUSE', 10): 53500,\n",
    "    ('SINGAPORE-WAREHOUSE', 11): 53500, ('SINGAPORE-WAREHOUSE', 12): 48000,\n",
    "    ('CHINA-WAREHOUSE', 1): 58000, ('CHINA-WAREHOUSE', 2): 70000,\n",
    "    ('CHINA-WAREHOUSE', 3): 70000, ('CHINA-WAREHOUSE', 4): 70000,\n",
    "    ('CHINA-WAREHOUSE', 5): 70000, ('CHINA-WAREHOUSE', 6): 70000,\n",
    "    ('CHINA-WAREHOUSE', 7): 70000, ('CHINA-WAREHOUSE', 8): 70000,\n",
    "    ('CHINA-WAREHOUSE', 9): 70000, ('CHINA-WAREHOUSE', 10): 70000,\n",
    "    ('CHINA-WAREHOUSE', 11): 70000, ('CHINA-WAREHOUSE', 12): 70000,\n",
    "}\n",
    "\n",
    "def get_capacity(row):\n",
    "    month = row['YEAR_MONTH'].month if isinstance(row['YEAR_MONTH'], pd.Period) else pd.Period(row['YEAR_MONTH']).month\n",
    "    plant = normalize(row['PLANT_NAME'])\n",
    "    normalized_dict = {(normalize(k[0]), k[1]): v for k, v in capacity_dict.items()}\n",
    "    return normalized_dict.get((plant, month), np.nan)\n",
    "\n",
    "def prepare_data_for_analysis(inventory_df, outbound_df, inbound_df, forecast_df):\n",
    "    \"\"\"Prepare merged data for overflow analysis\"\"\"\n",
    "    df = inventory_df.copy()\n",
    "    df['BALANCE_AS_OF_DATE'] = pd.to_datetime(df['BALANCE_AS_OF_DATE'])\n",
    "    df['YEAR_MONTH'] = df['BALANCE_AS_OF_DATE'].dt.to_period('M')\n",
    "    \n",
    "    outbound_agg = outbound_df.copy()\n",
    "    outbound_agg['OUTBOUND_DATE'] = pd.to_datetime(outbound_agg['OUTBOUND_DATE'])\n",
    "    outbound_agg['YEAR_MONTH'] = outbound_agg['OUTBOUND_DATE'].dt.to_period('M')\n",
    "    outbound_summary = outbound_agg.groupby(['PLANT_NAME', 'YEAR_MONTH'])['NET_QUANTITY_MT'].sum().reset_index()\n",
    "    outbound_summary = outbound_summary.rename(columns={'NET_QUANTITY_MT': 'PREDICTED_OUTBOUND_MT'})\n",
    "    \n",
    "    inbound_agg = inbound_df.copy()\n",
    "    inbound_agg['INBOUND_DATE'] = pd.to_datetime(inbound_agg['INBOUND_DATE'])\n",
    "    inbound_agg['YEAR_MONTH'] = inbound_agg['INBOUND_DATE'].dt.to_period('M')\n",
    "    monthly_inbound = inbound_agg.groupby(['YEAR_MONTH', 'PLANT_NAME'])['NET_QUANTITY_MT'].sum().reset_index()\n",
    "    monthly_inbound.rename(columns={'NET_QUANTITY_MT': 'INBOUND_MT'}, inplace=True)\n",
    "    \n",
    "    inventory_summary = df.groupby(['PLANT_NAME', 'YEAR_MONTH'])['UNRESTRICTED_STOCK_MT'].sum().reset_index()\n",
    "    inventory_summary = inventory_summary.rename(columns={'UNRESTRICTED_STOCK_MT': 'UNRESTRICTED_ACTUAL_MT'})\n",
    "    \n",
    "    forecast_use = forecast_df.copy()\n",
    "    plant_map = { 'sg': 'SINGAPORE-WAREHOUSE', 'cn': 'CHINA-WAREHOUSE' }\n",
    "    forecast_use['Date'] = pd.to_datetime(forecast_use['Date'])\n",
    "    forecast_use['YEAR_MONTH'] = forecast_use['Date'].dt.to_period('M')\n",
    "    forecast_use['PLANT_NAME'] = forecast_use['Warehouse'].str.lower().map(plant_map)\n",
    "    forecast_summary = forecast_use.rename(columns={'Predicted Inventory (MT)': 'PREDICTED_INVENTORY_MT'})\n",
    "    \n",
    "    merged_df = inventory_summary.merge(monthly_inbound, on=['YEAR_MONTH', 'PLANT_NAME'], how='left') \\\n",
    "                                 .merge(outbound_summary, on=['PLANT_NAME', 'YEAR_MONTH'], how='left') \\\n",
    "                                 .merge(forecast_summary[['PLANT_NAME', 'YEAR_MONTH', 'PREDICTED_INVENTORY_MT']], \n",
    "                                        on=['PLANT_NAME', 'YEAR_MONTH'], \n",
    "                                        how='left')\n",
    "    \n",
    "    merged_df['INBOUND_MT'] = merged_df['INBOUND_MT'].fillna(0)\n",
    "    merged_df['PREDICTED_OUTBOUND_MT'] = merged_df['PREDICTED_OUTBOUND_MT'].fillna(0)\n",
    "    merged_df['PREDICTED_INVENTORY_MT'] = merged_df['PREDICTED_INVENTORY_MT'].fillna(0)\n",
    "    \n",
    "    return merged_df\n",
    "\n",
    "\n",
    "def analyze_overflow_with_xgb_improved(df, target_year, target_month):\n",
    "    df = df.copy()\n",
    "    df['YEAR_MONTH'] = df['YEAR_MONTH'].apply(lambda x: pd.Period(x, freq='M') if not isinstance(x, pd.Period) else x)\n",
    "    df = df.sort_values(['PLANT_NAME', 'YEAR_MONTH']).reset_index(drop=True)\n",
    "    df['PLANT_ENCODED'] = df['PLANT_NAME'].astype('category').cat.codes\n",
    "    df['MONTH'] = df['YEAR_MONTH'].dt.month\n",
    "    df['QUARTER'] = df['YEAR_MONTH'].dt.quarter\n",
    "    df['IS_YEAR_END'] = (df['MONTH'] == 12).astype(int)\n",
    "    df['IS_QUARTER_END'] = df['MONTH'].isin([3, 6, 9, 12]).astype(int)\n",
    "\n",
    "    \n",
    "    df['INV_T_1'] = np.nan\n",
    "    df['INV_T_2'] = np.nan\n",
    "    df['INV_T_3'] = np.nan\n",
    "    df['INB_T_1'] = np.nan\n",
    "    df['OUTB_T_1'] = np.nan\n",
    "    df['INV_P_1'] = np.nan\n",
    "    df['INV_MA_3'] = np.nan\n",
    "    df['INB_MA_3'] = np.nan\n",
    "    df['OUTB_MA_3'] = np.nan\n",
    "    df['INV_STD_3'] = np.nan\n",
    "    df['OUTB_STD_3'] = np.nan\n",
    "\n",
    "    for plant in df['PLANT_NAME'].unique():\n",
    "        mask = df['PLANT_NAME'] == plant\n",
    "        plant_data = df.loc[mask].sort_values('YEAR_MONTH')\n",
    "        df.loc[mask, 'INV_T_1'] = plant_data['UNRESTRICTED_ACTUAL_MT'].shift(1)\n",
    "        df.loc[mask, 'INV_T_2'] = plant_data['UNRESTRICTED_ACTUAL_MT'].shift(2)\n",
    "        df.loc[mask, 'INV_T_3'] = plant_data['UNRESTRICTED_ACTUAL_MT'].shift(3)\n",
    "        df.loc[mask, 'INB_T_1'] = plant_data['INBOUND_MT'].shift(1)\n",
    "        df.loc[mask, 'OUTB_T_1'] = plant_data['PREDICTED_OUTBOUND_MT'].shift(1)\n",
    "        df.loc[mask, 'INV_P_1'] = plant_data['PREDICTED_INVENTORY_MT'].shift(1)\n",
    "        df.loc[mask, 'INV_MA_3'] = plant_data['UNRESTRICTED_ACTUAL_MT'].rolling(3).mean()\n",
    "        df.loc[mask, 'INB_MA_3'] = plant_data['INBOUND_MT'].rolling(3).mean()\n",
    "        df.loc[mask, 'OUTB_MA_3'] = plant_data['PREDICTED_OUTBOUND_MT'].rolling(3).mean()\n",
    "        df.loc[mask, 'INV_STD_3'] = plant_data['UNRESTRICTED_ACTUAL_MT'].rolling(3).std()\n",
    "        df.loc[mask, 'OUTB_STD_3'] = plant_data['PREDICTED_OUTBOUND_MT'].rolling(3).std()\n",
    "\n",
    "    df['YEAR_MONTH_T_MINUS_1'] = df['YEAR_MONTH'] - 1\n",
    "    df['YEAR_MONTH_T_MINUS_2'] = df['YEAR_MONTH'] - 2\n",
    "    df_lag1 = df[['PLANT_NAME', 'YEAR_MONTH', 'INBOUND_MT']].rename(\n",
    "        columns={'YEAR_MONTH': 'YEAR_MONTH_T_MINUS_1', 'INBOUND_MT': 'INBOUND_MT_LAG1'}\n",
    "    )\n",
    "    df_lag2 = df[['PLANT_NAME', 'YEAR_MONTH', 'UNRESTRICTED_ACTUAL_MT']].rename(\n",
    "        columns={'YEAR_MONTH': 'YEAR_MONTH_T_MINUS_2', 'UNRESTRICTED_ACTUAL_MT': 'INV_LAG2'}\n",
    "    )\n",
    "    df = df.merge(df_lag1, on=['PLANT_NAME', 'YEAR_MONTH_T_MINUS_1'], how='left')\n",
    "    df = df.merge(df_lag2, on=['PLANT_NAME', 'YEAR_MONTH_T_MINUS_2'], how='left')\n",
    "    df['UNRESTRICTED_ACTUAL_MT_T2_PLUS_INBOUND_T1'] = df['INBOUND_MT_LAG1'] + df['INV_LAG2']\n",
    "\n",
    "    lag_features = ['INV_T_1', 'INV_T_2', 'INV_T_3', 'INB_T_1', 'OUTB_T_1', 'INV_P_1',\n",
    "                    'INV_MA_3', 'INB_MA_3', 'OUTB_MA_3', 'UNRESTRICTED_ACTUAL_MT_T2_PLUS_INBOUND_T1','INV_STD_3', 'OUTB_STD_3']\n",
    "    for plant in df['PLANT_NAME'].unique():\n",
    "        mask = df['PLANT_NAME'] == plant\n",
    "        for f in lag_features:\n",
    "            df.loc[mask, f] = df.loc[mask, f].fillna(df.loc[mask, f].mean(skipna=True)) # Corrected line\n",
    "\n",
    "    df_model = df.copy()\n",
    "    df_model = df_model.sort_values('YEAR_MONTH')\n",
    "    train_size = int(len(df_model) * 0.8)\n",
    "    train_df = df_model.iloc[:train_size]\n",
    "    test_df = df_model.iloc[train_size:]\n",
    "    \n",
    "   \n",
    "    global features, model \n",
    "    features = ['INV_T_1', 'INV_T_2', 'INV_T_3', 'INB_T_1', 'OUTB_T_1', 'INBOUND_MT',\n",
    "                'QUARTER', 'MONTH', 'INV_P_1', 'INV_MA_3', 'UNRESTRICTED_ACTUAL_MT_T2_PLUS_INBOUND_T1',\n",
    "                'INB_MA_3', 'PLANT_ENCODED', 'IS_YEAR_END', 'IS_QUARTER_END','INV_STD_3', 'OUTB_STD_3']\n",
    "\n",
    "    target = 'UNRESTRICTED_ACTUAL_MT'\n",
    "\n",
    "    X_train = train_df[features]\n",
    "    y_train = train_df[target]\n",
    "    X_test = test_df[features]\n",
    "    y_test = test_df[target]\n",
    "\n",
    "    import xgboost as xgb \n",
    "    best_params = {\n",
    "        'max_depth': 8,\n",
    "        'learning_rate': 0.16438179870311287,\n",
    "        'subsample': 0.7008753114485383,\n",
    "        'colsample_bytree': 0.5553690914236263,\n",
    "        'reg_alpha': 0.2,\n",
    "        'reg_lambda': 0.1,\n",
    "        'min_child_weight': 8,\n",
    "        'gamma': 4.266195291786033,\n",
    "    }\n",
    "\n",
    "    model = xgb.XGBRegressor(\n",
    "        n_estimators=100,\n",
    "        **best_params,\n",
    "        random_state=42,\n",
    "    )\n",
    "\n",
    "    model.fit(X_train, y_train)\n",
    "\n",
    "    from sklearn.metrics import mean_absolute_error \n",
    "    y_train_pred = model.predict(X_train)\n",
    "    y_test_pred = model.predict(X_test)\n",
    "    train_mae = mean_absolute_error(y_train, y_train_pred)\n",
    "    test_mae = mean_absolute_error(y_test, y_test_pred)\n",
    "    \n",
    "    df_model['EXPECTED_INVENTORY'] = model.predict(df_model[features])\n",
    "    df = df.merge(df_model[['YEAR_MONTH', 'PLANT_NAME', 'EXPECTED_INVENTORY']], on=['YEAR_MONTH', 'PLANT_NAME'], how='left')\n",
    "    df['EXPECTED_INVENTORY'] = df['EXPECTED_INVENTORY'].fillna(df['PREDICTED_INVENTORY_MT'])\n",
    "\n",
    "    df['CAPACITY_MT'] = df.apply(get_capacity, axis=1)\n",
    "    df['UTILIZATION_RATE'] = df['EXPECTED_INVENTORY'] / df['CAPACITY_MT']\n",
    "    \n",
    "    def risk_level(rate):\n",
    "        if pd.isna(rate): return 'Insufficient Data'\n",
    "        elif rate >= 1.0: return 'OVERFLOW'\n",
    "        elif rate >= 0.90: return 'CRITICAL'\n",
    "        elif rate > 0.80: return 'HIGH'\n",
    "        elif 0.70 <= rate <= 0.80: return 'NORMAL'\n",
    "        else: return 'LOW'\n",
    "    \n",
    "    df['RISK_LEVEL'] = df['UTILIZATION_RATE'].apply(risk_level)\n",
    "    df['TOTAL_STOCK_AFTER_INBOUND'] = df['UNRESTRICTED_ACTUAL_MT'] + df['INBOUND_MT']\n",
    "    df['IS_OVERFLOW'] = df['EXPECTED_INVENTORY'] > df['CAPACITY_MT']\n",
    "    \n",
    "    target_period = pd.Period(f\"{target_year}-{target_month:02d}\", freq='M')\n",
    "    result = df[df['YEAR_MONTH'] == target_period].copy()\n",
    "    \n",
    "    return result, df_model\n",
    "    \n",
    "\n",
    "merged_df = prepare_data_for_analysis(inventory, outbound, inbound, forecast)\n",
    "result_analysis, df_model = analyze_overflow_with_xgb_improved(merged_df, 2024, 3)\n",
    "\n",
    "\n",
    "if 'df_model' in globals() and 'features' in globals():\n",
    "    \n",
    "    if all(col in df_model.columns for col in features + ['UNRESTRICTED_ACTUAL_MT']):\n",
    "        \n",
    "        data_for_corr = df_model[features + ['UNRESTRICTED_ACTUAL_MT']]\n",
    "        corr_matrix = data_for_corr.corr()\n",
    "\n",
    "        \n",
    "        corr_with_target = corr_matrix['UNRESTRICTED_ACTUAL_MT']\n",
    "\n",
    "        \n",
    "        sorted_corr = corr_with_target.drop('UNRESTRICTED_ACTUAL_MT').sort_values(ascending=False)\n",
    "\n",
    "        \n",
    "        plt.figure(figsize=(12, 10))\n",
    "        \n",
    "        sns.barplot(x=sorted_corr.values, y=sorted_corr.index, palette='Pastel1') \n",
    "\n",
    "        \n",
    "        plt.title('Correlation with Target (UNRESTRICTED_ACTUAL_MT)', fontsize=16)\n",
    "        plt.xlabel('Correlation Coefficient', fontsize=12)\n",
    "        plt.ylabel('Features', fontsize=12)\n",
    "        plt.grid(axis='x', linestyle='--', alpha=0.6)\n",
    "        plt.show()\n",
    "\n",
    "        \n",
    "    else:\n",
    "        print(\"❌ ข้อผิดพลาด: df_model ไม่มีคอลัมน์ที่จำเป็นสำหรับการคำนวณ Correlation\")\n",
    "        print(\"ตรวจสอบว่า 'UNRESTRICTED_ACTUAL_MT' และฟีเจอร์ทั้งหมดใน 'features' อยู่ใน df_model\")\n",
    "else:\n",
    "    print(\"❌ ข้อผิดพลาด: ตัวแปร 'df_model' หรือ 'features' ยังไม่ได้ถูกกำหนดในขอบเขตที่เข้าถึงได้\")\n",
    "    print(\"โปรดตรวจสอบให้แน่ใจว่าได้รันฟังก์ชัน analyze_overflow_with_xgb_improved หรือฟังก์ชันที่เกี่ยวข้องแล้ว\")"
   ]
  }
 ],
 "metadata": {
  "kernelspec": {
   "display_name": "base",
   "language": "python",
   "name": "python3"
  },
  "language_info": {
   "codemirror_mode": {
    "name": "ipython",
    "version": 3
   },
   "file_extension": ".py",
   "mimetype": "text/x-python",
   "name": "python",
   "nbconvert_exporter": "python",
   "pygments_lexer": "ipython3",
   "version": "3.11.5"
  }
 },
 "nbformat": 4,
 "nbformat_minor": 5
}
